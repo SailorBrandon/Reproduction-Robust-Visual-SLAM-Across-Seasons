{
  "cells": [
    {
      "cell_type": "markdown",
      "id": "fd92ffde",
      "metadata": {},
      "source": [
        "TODO\n",
        "1. extract features by googlenet\n",
        "2. compute similarity\n",
        "3. test on Place dataset"
      ]
    },
    {
      "cell_type": "markdown",
      "id": "869d67b1",
      "metadata": {},
      "source": [
        "## Feature extraction"
      ]
    },
    {
      "cell_type": "code",
      "execution_count": 35,
      "id": "9c734a4c",
      "metadata": {},
      "outputs": [],
      "source": [
        "database = \"images/Nordland_data\"\n",
        "query = \"images/Nordland_query\"\n",
        "# database = \"images/Pittsburgh_data\"\n",
        "# query = \"images/Pittsburgh_query\""
      ]
    },
    {
      "cell_type": "markdown",
      "id": "3125c4b2",
      "metadata": {},
      "source": [
        "### Using GoogLenet"
      ]
    },
    {
      "cell_type": "code",
      "execution_count": 36,
      "id": "e8fa50a8",
      "metadata": {},
      "outputs": [
        {
          "data": {
            "text/plain": [
              "<torch.utils.hooks.RemovableHandle at 0x20e2e88b308>"
            ]
          },
          "execution_count": 36,
          "metadata": {},
          "output_type": "execute_result"
        }
      ],
      "source": [
        "import torch\n",
        "import torch.nn as nn\n",
        "import numpy as np\n",
        "import matplotlib.pyplot as plt\n",
        "\n",
        "from googlenet_places205 import GoogLeNetPlaces205\n",
        "model = GoogLeNetPlaces205()\n",
        "model.load_state_dict(torch.load(\"googlenet_places205.pth\"))\n",
        "\n",
        "# from googlenet_places365 import GoogLeNetPlaces365\n",
        "# model = GoogLeNetPlaces365()\n",
        "# model.load_state_dict(torch.load(\"googlenet_places365.pth\"))\n",
        "\n",
        "features = {}\n",
        "def get_middle_output(name):\n",
        "    def hook(model, input, output):\n",
        "        features[name] = (input[0].detach())\n",
        "    return hook\n",
        "\n",
        "model.inception_3b_3x3_reduce.register_forward_hook(get_middle_output('icp1'))"
      ]
    },
    {
      "cell_type": "code",
      "execution_count": 37,
      "id": "a5262180",
      "metadata": {},
      "outputs": [
        {
          "data": {
            "image/png": "[encoded data removed]",
            "text/plain": [
              "<Figure size 640x480 with 1 Axes>"
            ]
          },
          "metadata": {},
          "output_type": "display_data"
        }
      ],
      "source": [
        "import os\n",
        "from PIL import Image\n",
        "from torchvision import transforms\n",
        "\n",
        "def preprocess_singe_img(filename):\n",
        "    input_image = Image.open(filename)\n",
        "    transform = transforms.Compose([\n",
        "        transforms.Resize(256),\n",
        "        # transforms.CenterCrop(224),\n",
        "        transforms.ToTensor(),\n",
        "        transforms.Normalize(mean=[0.485, 0.456, 0.406], std=[0.229, 0.224, 0.225]),\n",
        "    ])\n",
        "    input_tensor = transform(input_image)\n",
        "    input_batch = input_tensor.unsqueeze(0) # create a mini-batch as expected by the model\n",
        "    return input_batch,np.array(input_image)\n",
        "\n",
        "def get_features(input):\n",
        "    output = model(input)\n",
        "    return features['icp1'].flatten()\n",
        "\n",
        "def get_similarity(input1, input2):\n",
        "    cos = nn.CosineSimilarity(dim=0, eps=1e-6)\n",
        "    return cos(input1, input2)\n",
        "\n",
        "def process_images_from_folder(folder):\n",
        "    image_features = []\n",
        "    images=[]\n",
        "    for filename in os.listdir(folder):\n",
        "        if filename is not None:\n",
        "            input,image = preprocess_singe_img(folder + '/' + filename)\n",
        "            images.append(image)\n",
        "            image_features.append(get_features(input))\n",
        "    return image_features,images\n",
        "\n",
        "\n",
        "\n",
        "database_features,database_images = process_images_from_folder(database)\n",
        "query_features,query_images = process_images_from_folder(query)\n",
        "\n",
        "similarity_matrix = np.zeros((len(query_features), len(database_features))) # Q by D\n",
        "\n",
        "for i in range(len(query_features)):\n",
        "    for j in range(len(database_features)):\n",
        "        similarity_matrix[i][j] = get_similarity(query_features[i], database_features[j])\n",
        "\n",
        "plt.imshow(similarity_matrix)\n",
        "plt.show()"
      ]
    },
    {
      "cell_type": "markdown",
      "id": "9842cef3",
      "metadata": {},
      "source": [
        "### Using HOG"
      ]
    },
    {
      "cell_type": "code",
      "execution_count": 38,
      "id": "2e59c5be",
      "metadata": {},
      "outputs": [
        {
          "data": {
            "image/png": "[encoded data removed]",
            "text/plain": [
              "<Figure size 640x480 with 1 Axes>"
            ]
          },
          "metadata": {},
          "output_type": "display_data"
        }
      ],
      "source": [
        "from skimage.feature import hog\n",
        "from skimage import exposure\n",
        "def hog_preprocess_singe_img(filename):\n",
        "    input_image = Image.open(filename)\n",
        "    transform = transforms.Compose([\n",
        "        # transforms.Resize(256),\n",
        "        # transforms.CenterCrop(224),\n",
        "        transforms.ToTensor(),\n",
        "        transforms.Normalize(mean=[0.485, 0.456, 0.406], std=[0.229, 0.224, 0.225]),\n",
        "        transforms.Grayscale(num_output_channels=1),\n",
        "    ])\n",
        "    input_tensor = transform(input_image)\n",
        "    # input_batch = input_tensor.unsqueeze(0) # create a mini-batch as expected by the model\n",
        "    return input_tensor, np.array(input_image)\n",
        "\n",
        "def get_hog_features(input):\n",
        "    fd = hog(input.squeeze(), orientations=10, pixels_per_cell=(32, 32),\n",
        "            cells_per_block=(2, 2))\n",
        "    return fd\n",
        "\n",
        "def hog_process_images_from_folder(folder):\n",
        "    image_features = []\n",
        "    images=[]\n",
        "    for filename in os.listdir(folder):\n",
        "        if (filename is not None):\n",
        "            input,image = hog_preprocess_singe_img(folder + '/' + filename)\n",
        "            image_features.append(get_hog_features(input))\n",
        "            images.append(image)\n",
        "    return image_features,images\n",
        "\n",
        "\n",
        "hog_database_features,hog_database_images = hog_process_images_from_folder(database)\n",
        "hog_query_features,hog_query_images =  hog_process_images_from_folder(query)\n",
        "\n",
        "hog_similarity_matrix = np.zeros((len(hog_query_features), len(hog_database_features))) # Q by D\n",
        "\n",
        "for i in range(len(hog_query_features)):\n",
        "    for j in range(len(hog_database_features)):\n",
        "        hog_similarity_matrix[i][j] = get_similarity(torch.from_numpy(hog_query_features[i]), torch.from_numpy(hog_database_features[j]))\n",
        "\n",
        "plt.imshow(hog_similarity_matrix)\n",
        "plt.show()"
      ]
    },
    {
      "cell_type": "markdown",
      "id": "6aead36d",
      "metadata": {},
      "source": [
        "Show pictures"
      ]
    },
    {
      "cell_type": "code",
      "execution_count": 39,
      "id": "203e759f",
      "metadata": {},
      "outputs": [],
      "source": [
        "def visualize(database_images,query_images,similarity_matrix,query_num=10):\n",
        "    matches=np.argmax(similarity_matrix,axis=1)\n",
        "    # query_num=len(query_images)\n",
        "    fig, ax = plt.subplots(query_num, 2, figsize= (8,60)) \n",
        "    fig.tight_layout()\n",
        "    for i in range(query_num):\n",
        "        ax[i, 0].imshow(query_images[i])\n",
        "        ax[i, 0].set_title(i)\n",
        "        ax[i, 1].imshow(database_images[matches[i]])\n",
        "        ax[i, 1].set_title(matches[i])\n",
        "    fig.show()\n",
        "    \n",
        "# visualize(hog_database_images,hog_query_images,hog_similarity_matrix)\n",
        "# visualize(database_images,query_images,similarity_matrix)"
      ]
    },
    {
      "cell_type": "markdown",
      "id": "28f48979",
      "metadata": {},
      "source": [
        "## Minumum flow"
      ]
    },
    {
      "cell_type": "code",
      "execution_count": 40,
      "id": "951616c5",
      "metadata": {},
      "outputs": [],
      "source": [
        "import networkx as nx"
      ]
    },
    {
      "cell_type": "code",
      "execution_count": 41,
      "id": "9bb1aea0",
      "metadata": {},
      "outputs": [],
      "source": [
        "# # An example of min cost flow\n",
        "# G = nx.DiGraph()\n",
        "# G.add_node(\"a\", demand=-5)\n",
        "# G.add_node(\"d\", demand=5)\n",
        "# G.add_edge(\"a\", \"b\", weight=3, capacity=4)\n",
        "# G.add_edge(\"a\", \"c\", weight=6, capacity=10)\n",
        "# G.add_edge(\"b\", \"d\", weight=1, capacity=9)\n",
        "# G.add_edge(\"c\", \"d\", weight=2, capacity=5)\n",
        "# flowDict = nx.min_cost_flow(G)\n",
        "# print(flowDict)"
      ]
    },
    {
      "cell_type": "code",
      "execution_count": 42,
      "id": "12704e53",
      "metadata": {},
      "outputs": [],
      "source": [
        "# Generate the graph\n",
        "def minCostFlow(similarity_matrix):\n",
        "    # Definie our problem\n",
        "    G = nx.DiGraph()\n",
        "\n",
        "    # Size of query and data\n",
        "    Q=similarity_matrix.shape[0]\n",
        "    D=similarity_matrix.shape[1]\n",
        "\n",
        "    F=5 # Flow\n",
        "    K=4 # Span\n",
        "\n",
        "    w_h = 1 # weight for connecting hidden units\n",
        "\n",
        "    G.add_node(\"s\", demand=-F)\n",
        "    G.add_node(\"t\", demand=F)\n",
        "\n",
        "    # Episolon s\n",
        "    for j in range(1,D+1):\n",
        "        G.add_edge(\"s\", (1,j), weight=0, capacity=1)\n",
        "        G.add_edge(\"s\", (-1,-j), weight=0, capacity=1)\n",
        "\n",
        "    # Episolon t\n",
        "    for j in range(1,D+1):\n",
        "        G.add_edge((Q,j), \"t\", weight=0, capacity=1)\n",
        "        G.add_edge((-Q,-j), \"t\", weight=0, capacity=1)\n",
        "\n",
        "    # Episolon a and b\n",
        "    for i in range(1,Q):\n",
        "        for j in range(1,D+1):\n",
        "            for k in range(j,min(max(j+K,D),D+1)):\n",
        "                # print(k)\n",
        "                G.add_edge((i,j), (i+1,k), weight=1/similarity_matrix[i-1][j-1], capacity=1)\n",
        "                G.add_edge((-i,-j), (-i-1,-k), weight=1/similarity_matrix[i-1][j-1], capacity=1)\n",
        "                G.add_edge((i,j), (-i-1,-k), weight=1/similarity_matrix[i-1][j-1], capacity=1)\n",
        "                G.add_edge((-i,-j), (i+1,k), weight=1/similarity_matrix[i-1][j-1], capacity=1)\n",
        "                # G.add_edge((i,j), (i+1,k), weight=0, capacity=1)\n",
        "                # G.add_edge((-i,-j), (-i-1,-k), weight=0, capacity=1)\n",
        "                # G.add_edge((i,j), (-i-1,-k), weight=0, capacity=1)\n",
        "                # G.add_edge((-i,-j), (i+1,k), weight=0, capacity=1)\n",
        "\n",
        "    # Episolon h\n",
        "    for i in range(1,Q+1):\n",
        "        for j in range(1,D-1):\n",
        "            G.add_edge((i,j), (i,j+1), weight=0, capacity=1)\n",
        "            G.add_edge((i,j), (-i,-j-1), weight=0, capacity=1)\n",
        "            G.add_edge((-i,-j), (i,j+1), weight=0, capacity=1)\n",
        "            G.add_edge((-i,-j), (-i,-j-1), weight=0, capacity=1)\n",
        "    return G"
      ]
    },
    {
      "cell_type": "code",
      "execution_count": 43,
      "id": "43672db6",
      "metadata": {},
      "outputs": [
        {
          "ename": "KeyboardInterrupt",
          "evalue": "",
          "output_type": "error",
          "traceback": [
            "\u001b[1;31m---------------------------------------------------------------------------\u001b[0m",
            "\u001b[1;31mKeyboardInterrupt\u001b[0m                         Traceback (most recent call last)",
            "\u001b[1;32m<ipython-input-43-b0291f268283>\u001b[0m in \u001b[0;36m<module>\u001b[1;34m\u001b[0m\n\u001b[0;32m      3\u001b[0m \u001b[1;33m\u001b[0m\u001b[0m\n\u001b[0;32m      4\u001b[0m \u001b[1;31m# min cost flow solution\u001b[0m\u001b[1;33m\u001b[0m\u001b[1;33m\u001b[0m\u001b[1;33m\u001b[0m\u001b[0m\n\u001b[1;32m----> 5\u001b[1;33m \u001b[0mflowDict\u001b[0m \u001b[1;33m=\u001b[0m \u001b[0mnx\u001b[0m\u001b[1;33m.\u001b[0m\u001b[0mmin_cost_flow\u001b[0m\u001b[1;33m(\u001b[0m\u001b[0mG\u001b[0m\u001b[1;33m)\u001b[0m\u001b[1;33m\u001b[0m\u001b[1;33m\u001b[0m\u001b[0m\n\u001b[0m\u001b[0;32m      6\u001b[0m \u001b[1;31m# print(flowDict)\u001b[0m\u001b[1;33m\u001b[0m\u001b[1;33m\u001b[0m\u001b[1;33m\u001b[0m\u001b[0m\n",
            "\u001b[1;32mD:\\Program_Files_new\\anaconda3\\envs\\cvBase\\lib\\site-packages\\networkx\\algorithms\\flow\\mincost.py\u001b[0m in \u001b[0;36mmin_cost_flow\u001b[1;34m(G, demand, capacity, weight)\u001b[0m\n\u001b[0;32m    182\u001b[0m     \u001b[1;33m>>\u001b[0m\u001b[1;33m>\u001b[0m \u001b[0mflowDict\u001b[0m \u001b[1;33m=\u001b[0m \u001b[0mnx\u001b[0m\u001b[1;33m.\u001b[0m\u001b[0mmin_cost_flow\u001b[0m\u001b[1;33m(\u001b[0m\u001b[0mG\u001b[0m\u001b[1;33m)\u001b[0m\u001b[1;33m\u001b[0m\u001b[1;33m\u001b[0m\u001b[0m\n\u001b[0;32m    183\u001b[0m     \"\"\"\n\u001b[1;32m--> 184\u001b[1;33m     \u001b[1;32mreturn\u001b[0m \u001b[0mnx\u001b[0m\u001b[1;33m.\u001b[0m\u001b[0mnetwork_simplex\u001b[0m\u001b[1;33m(\u001b[0m\u001b[0mG\u001b[0m\u001b[1;33m,\u001b[0m \u001b[0mdemand\u001b[0m\u001b[1;33m=\u001b[0m\u001b[0mdemand\u001b[0m\u001b[1;33m,\u001b[0m \u001b[0mcapacity\u001b[0m\u001b[1;33m=\u001b[0m\u001b[0mcapacity\u001b[0m\u001b[1;33m,\u001b[0m \u001b[0mweight\u001b[0m\u001b[1;33m=\u001b[0m\u001b[0mweight\u001b[0m\u001b[1;33m)\u001b[0m\u001b[1;33m[\u001b[0m\u001b[1;36m1\u001b[0m\u001b[1;33m]\u001b[0m\u001b[1;33m\u001b[0m\u001b[1;33m\u001b[0m\u001b[0m\n\u001b[0m\u001b[0;32m    185\u001b[0m \u001b[1;33m\u001b[0m\u001b[0m\n\u001b[0;32m    186\u001b[0m \u001b[1;33m\u001b[0m\u001b[0m\n",
            "\u001b[1;32mD:\\Program_Files_new\\anaconda3\\envs\\cvBase\\lib\\site-packages\\networkx\\utils\\decorators.py\u001b[0m in \u001b[0;36margmap_network_simplex_1\u001b[1;34m(G, demand, capacity, weight)\u001b[0m\n\u001b[0;32m      2\u001b[0m \u001b[1;32mfrom\u001b[0m \u001b[0mos\u001b[0m\u001b[1;33m.\u001b[0m\u001b[0mpath\u001b[0m \u001b[1;32mimport\u001b[0m \u001b[0msplitext\u001b[0m\u001b[1;33m\u001b[0m\u001b[1;33m\u001b[0m\u001b[0m\n\u001b[0;32m      3\u001b[0m \u001b[1;32mfrom\u001b[0m \u001b[0mcontextlib\u001b[0m \u001b[1;32mimport\u001b[0m \u001b[0mcontextmanager\u001b[0m\u001b[1;33m\u001b[0m\u001b[1;33m\u001b[0m\u001b[0m\n\u001b[1;32m----> 4\u001b[1;33m \u001b[1;32mfrom\u001b[0m \u001b[0mpathlib\u001b[0m \u001b[1;32mimport\u001b[0m \u001b[0mPath\u001b[0m\u001b[1;33m\u001b[0m\u001b[1;33m\u001b[0m\u001b[0m\n\u001b[0m\u001b[0;32m      5\u001b[0m \u001b[1;32mimport\u001b[0m \u001b[0mwarnings\u001b[0m\u001b[1;33m\u001b[0m\u001b[1;33m\u001b[0m\u001b[0m\n\u001b[0;32m      6\u001b[0m \u001b[1;33m\u001b[0m\u001b[0m\n",
            "\u001b[1;32mD:\\Program_Files_new\\anaconda3\\envs\\cvBase\\lib\\site-packages\\networkx\\algorithms\\flow\\networksimplex.py\u001b[0m in \u001b[0;36mnetwork_simplex\u001b[1;34m(G, demand, capacity, weight)\u001b[0m\n\u001b[0;32m    582\u001b[0m     \u001b[1;31m###########################################################################\u001b[0m\u001b[1;33m\u001b[0m\u001b[1;33m\u001b[0m\u001b[1;33m\u001b[0m\u001b[0m\n\u001b[0;32m    583\u001b[0m \u001b[1;33m\u001b[0m\u001b[0m\n\u001b[1;32m--> 584\u001b[1;33m     \u001b[1;32mfor\u001b[0m \u001b[0mi\u001b[0m\u001b[1;33m,\u001b[0m \u001b[0mp\u001b[0m\u001b[1;33m,\u001b[0m \u001b[0mq\u001b[0m \u001b[1;32min\u001b[0m \u001b[0mDEAF\u001b[0m\u001b[1;33m.\u001b[0m\u001b[0mfind_entering_edges\u001b[0m\u001b[1;33m(\u001b[0m\u001b[1;33m)\u001b[0m\u001b[1;33m:\u001b[0m\u001b[1;33m\u001b[0m\u001b[1;33m\u001b[0m\u001b[0m\n\u001b[0m\u001b[0;32m    585\u001b[0m         \u001b[0mWn\u001b[0m\u001b[1;33m,\u001b[0m \u001b[0mWe\u001b[0m \u001b[1;33m=\u001b[0m \u001b[0mDEAF\u001b[0m\u001b[1;33m.\u001b[0m\u001b[0mfind_cycle\u001b[0m\u001b[1;33m(\u001b[0m\u001b[0mi\u001b[0m\u001b[1;33m,\u001b[0m \u001b[0mp\u001b[0m\u001b[1;33m,\u001b[0m \u001b[0mq\u001b[0m\u001b[1;33m)\u001b[0m\u001b[1;33m\u001b[0m\u001b[1;33m\u001b[0m\u001b[0m\n\u001b[0;32m    586\u001b[0m         \u001b[0mj\u001b[0m\u001b[1;33m,\u001b[0m \u001b[0ms\u001b[0m\u001b[1;33m,\u001b[0m \u001b[0mt\u001b[0m \u001b[1;33m=\u001b[0m \u001b[0mDEAF\u001b[0m\u001b[1;33m.\u001b[0m\u001b[0mfind_leaving_edge\u001b[0m\u001b[1;33m(\u001b[0m\u001b[0mWn\u001b[0m\u001b[1;33m,\u001b[0m \u001b[0mWe\u001b[0m\u001b[1;33m)\u001b[0m\u001b[1;33m\u001b[0m\u001b[1;33m\u001b[0m\u001b[0m\n",
            "\u001b[1;32mD:\\Program_Files_new\\anaconda3\\envs\\cvBase\\lib\\site-packages\\networkx\\algorithms\\flow\\networksimplex.py\u001b[0m in \u001b[0;36mfind_entering_edges\u001b[1;34m(self)\u001b[0m\n\u001b[0;32m    288\u001b[0m             \u001b[0mf\u001b[0m \u001b[1;33m=\u001b[0m \u001b[0ml\u001b[0m\u001b[1;33m\u001b[0m\u001b[1;33m\u001b[0m\u001b[0m\n\u001b[0;32m    289\u001b[0m             \u001b[1;31m# Find the first edge with the lowest reduced cost.\u001b[0m\u001b[1;33m\u001b[0m\u001b[1;33m\u001b[0m\u001b[1;33m\u001b[0m\u001b[0m\n\u001b[1;32m--> 290\u001b[1;33m             \u001b[0mi\u001b[0m \u001b[1;33m=\u001b[0m \u001b[0mmin\u001b[0m\u001b[1;33m(\u001b[0m\u001b[0medges\u001b[0m\u001b[1;33m,\u001b[0m \u001b[0mkey\u001b[0m\u001b[1;33m=\u001b[0m\u001b[0mself\u001b[0m\u001b[1;33m.\u001b[0m\u001b[0mreduced_cost\u001b[0m\u001b[1;33m)\u001b[0m\u001b[1;33m\u001b[0m\u001b[1;33m\u001b[0m\u001b[0m\n\u001b[0m\u001b[0;32m    291\u001b[0m             \u001b[0mc\u001b[0m \u001b[1;33m=\u001b[0m \u001b[0mself\u001b[0m\u001b[1;33m.\u001b[0m\u001b[0mreduced_cost\u001b[0m\u001b[1;33m(\u001b[0m\u001b[0mi\u001b[0m\u001b[1;33m)\u001b[0m\u001b[1;33m\u001b[0m\u001b[1;33m\u001b[0m\u001b[0m\n\u001b[0;32m    292\u001b[0m             \u001b[1;32mif\u001b[0m \u001b[0mc\u001b[0m \u001b[1;33m>=\u001b[0m \u001b[1;36m0\u001b[0m\u001b[1;33m:\u001b[0m\u001b[1;33m\u001b[0m\u001b[1;33m\u001b[0m\u001b[0m\n",
            "\u001b[1;32mD:\\Program_Files_new\\anaconda3\\envs\\cvBase\\lib\\site-packages\\networkx\\algorithms\\flow\\networksimplex.py\u001b[0m in \u001b[0;36mreduced_cost\u001b[1;34m(self, i)\u001b[0m\n\u001b[0;32m    262\u001b[0m             \u001b[1;33m+\u001b[0m \u001b[0mself\u001b[0m\u001b[1;33m.\u001b[0m\u001b[0mnode_potentials\u001b[0m\u001b[1;33m[\u001b[0m\u001b[0mself\u001b[0m\u001b[1;33m.\u001b[0m\u001b[0medge_targets\u001b[0m\u001b[1;33m[\u001b[0m\u001b[0mi\u001b[0m\u001b[1;33m]\u001b[0m\u001b[1;33m]\u001b[0m\u001b[1;33m\u001b[0m\u001b[1;33m\u001b[0m\u001b[0m\n\u001b[0;32m    263\u001b[0m         )\n\u001b[1;32m--> 264\u001b[1;33m         \u001b[1;32mreturn\u001b[0m \u001b[0mc\u001b[0m \u001b[1;32mif\u001b[0m \u001b[0mself\u001b[0m\u001b[1;33m.\u001b[0m\u001b[0medge_flow\u001b[0m\u001b[1;33m[\u001b[0m\u001b[0mi\u001b[0m\u001b[1;33m]\u001b[0m \u001b[1;33m==\u001b[0m \u001b[1;36m0\u001b[0m \u001b[1;32melse\u001b[0m \u001b[1;33m-\u001b[0m\u001b[0mc\u001b[0m\u001b[1;33m\u001b[0m\u001b[1;33m\u001b[0m\u001b[0m\n\u001b[0m\u001b[0;32m    265\u001b[0m \u001b[1;33m\u001b[0m\u001b[0m\n\u001b[0;32m    266\u001b[0m     \u001b[1;32mdef\u001b[0m \u001b[0mfind_entering_edges\u001b[0m\u001b[1;33m(\u001b[0m\u001b[0mself\u001b[0m\u001b[1;33m)\u001b[0m\u001b[1;33m:\u001b[0m\u001b[1;33m\u001b[0m\u001b[1;33m\u001b[0m\u001b[0m\n",
            "\u001b[1;31mKeyboardInterrupt\u001b[0m: "
          ]
        }
      ],
      "source": [
        "G = minCostFlow(hog_similarity_matrix)\n",
        "# print(G.number_of_edges())\n",
        "\n",
        "# min cost flow solution\n",
        "flowDict = nx.min_cost_flow(G)\n",
        "# print(flowDict)"
      ]
    },
    {
      "cell_type": "code",
      "execution_count": null,
      "id": "4c90048c",
      "metadata": {},
      "outputs": [],
      "source": [
        "if nx.is_directed_acyclic_graph(G):\n",
        "    print(list(reversed(list(nx.topological_sort(G)))))"
      ]
    },
    {
      "cell_type": "code",
      "execution_count": null,
      "id": "f8a4adb6",
      "metadata": {},
      "outputs": [],
      "source": [
        "def visualizeList(database_images,query_images,shortest_list):\n",
        "    query_num = len(shortest_list)-2\n",
        "    # query_num=len(query_images)\n",
        "    fig, ax = plt.subplots(query_num, 2, figsize= (8,60)) \n",
        "    fig.tight_layout()\n",
        "    for i in range(query_num):\n",
        "        ax[i, 0].imshow(query_images[i])\n",
        "        ax[i, 0].set_title(i)\n",
        "        ax[i, 1].imshow(database_images[shortest_list[i+1][1]-1])\n",
        "        ax[i, 1].set_title(shortest_list[i+1][1]-1)\n",
        "    fig.show()"
      ]
    },
    {
      "cell_type": "code",
      "execution_count": null,
      "id": "65a66971",
      "metadata": {},
      "outputs": [],
      "source": [
        "nx.draw_networkx(G)\n",
        "# nx.write_gexf(G, \"test.gexf\")"
      ]
    },
    {
      "cell_type": "code",
      "execution_count": null,
      "id": "9532437e",
      "metadata": {},
      "outputs": [],
      "source": [
        "# for u in flowDict:\n",
        "#     for v in flowDict[u]:\n",
        "#         if flowDict[u][v]>0:\n",
        "#             print(u,v)\n",
        "\n",
        "list_flow = [(u, v) for u in flowDict for v in flowDict[u] if flowDict[u][v] > 0]"
      ]
    },
    {
      "cell_type": "code",
      "execution_count": null,
      "id": "a82aa1cf",
      "metadata": {},
      "outputs": [],
      "source": [
        "shortest_list = nx.shortest_path(G, \"s\", \"t\", weight=\"weight\")\n",
        "print(shortest_list)\n",
        "\n",
        "visualizeList(database_images,query_images,shortest_list)"
      ]
    },
    {
      "cell_type": "code",
      "execution_count": null,
      "id": "2c48ec90",
      "metadata": {},
      "outputs": [],
      "source": [
        "flowDict.keys()"
      ]
    },
    {
      "cell_type": "code",
      "execution_count": null,
      "id": "269830b0",
      "metadata": {},
      "outputs": [],
      "source": [
        "\n",
        "shortest_list=['s', (1, 1), (2, 4), (3, 7), (4, 7), (5, 7), (6, 7), (7, 7), (8, 7), (9, 7), (10, 7), 't']\n",
        "def visualization(shortest_list,similarity_matrix):\n",
        "    query=[]\n",
        "    data=[]\n",
        "    for i in range(1,len(shortest_list)-1):\n",
        "        query.append(shortest_list[i][0]-1)\n",
        "        data.append(shortest_list[i][1]-1)\n",
        "    plt.imshow(similarity_matrix)\n",
        "    plt.scatter(data, query, color='b')\n",
        "    plt.plot(data, query, color='black')\n",
        "    plt.show()\n",
        "    \n",
        "visualization(shortest_list,similarity_matrix)\n"
      ]
    }
  ],
  "metadata": {
    "colab": {
      "name": "pytorch_vision_googlenet.ipynb",
      "provenance": []
    },
    "interpreter": {
      "hash": "5d41c24aa7bc539c1e5b2b8472fb4f5e6fdc1aae223a5e4e26647df085f4bdf4"
    },
    "kernelspec": {
      "display_name": "Python 3.8.12 ('d2l')",
      "language": "python",
      "name": "python3"
    },
    "language_info": {
      "codemirror_mode": {
        "name": "ipython",
        "version": 3
      },
      "file_extension": ".py",
      "mimetype": "text/x-python",
      "name": "python",
      "nbconvert_exporter": "python",
      "pygments_lexer": "ipython3",
      "version": "3.7.11"
    }
  },
  "nbformat": 4,
  "nbformat_minor": 5
}
