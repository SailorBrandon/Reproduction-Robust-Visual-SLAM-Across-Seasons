{
  "cells": [
    {
      "cell_type": "markdown",
      "id": "fd92ffde",
      "metadata": {},
      "source": [
        "TODO\n",
        "1. extract features by googlenet\n",
        "2. compute similarity\n",
        "3. test on Place dataset"
      ]
    },
    {
      "cell_type": "code",
      "execution_count": 23,
      "id": "52812333",
      "metadata": {},
      "outputs": [
        {
          "name": "stdout",
          "output_type": "stream",
          "text": [
            "Opening dataset in read-only mode as you don't have write permissions.\n",
            "hub://activeloop/places205 loaded successfully.\n",
            "This dataset can be visualized at https://app.activeloop.ai/activeloop/places205.\n"
          ]
        }
      ],
      "source": [
        "# load places205 dataset\n",
        "import hub\n",
        "ds = hub.load(\"hub://activeloop/places205\")\n",
        "dataloader = ds.pytorch(num_workers = 2, shuffle = False, batch_size= 4)\n",
        "\n",
        "# import numpy as np\n",
        "# img = ds.images[42].numpy()\n",
        "# print(img.shape)\n",
        "\n",
        "# import matplotlib.pyplot as plt\n",
        "# plt.imshow(img)"
      ]
    },
    {
      "cell_type": "code",
      "execution_count": 52,
      "id": "e8fa50a8",
      "metadata": {},
      "outputs": [
        {
          "data": {
            "text/plain": [
              "<torch.utils.hooks.RemovableHandle at 0x2803a500850>"
            ]
          },
          "execution_count": 52,
          "metadata": {},
          "output_type": "execute_result"
        }
      ],
      "source": [
        "import torch\n",
        "import torch.nn as nn\n",
        "from googlenet_places205 import GoogLeNetPlaces205\n",
        "\n",
        "model = GoogLeNetPlaces205()\n",
        "model.load_state_dict(torch.load(\"googlenet_places205.pth\"))\n",
        "\n",
        "# define hook\n",
        "features = {}\n",
        "def get_middle_output(name):\n",
        "    def hook(model, input, output):\n",
        "        features[name] = (output.detach())\n",
        "    return hook\n",
        "\n",
        "# model.inception_3b_5x5.register_forward_hook(get_middle_output('icp1'))\n",
        "model.inception_4b_5x5.register_forward_hook(get_middle_output('icp1'))"
      ]
    },
    {
      "cell_type": "code",
      "execution_count": 53,
      "id": "a5262180",
      "metadata": {},
      "outputs": [],
      "source": [
        "from PIL import Image\n",
        "from torchvision import transforms\n",
        "\n",
        "def preprocess(filename):\n",
        "    input_image = Image.open(filename)\n",
        "    transform = transforms.Compose([\n",
        "        transforms.Resize(256),\n",
        "        transforms.CenterCrop(224),\n",
        "        transforms.ToTensor(),\n",
        "        transforms.Normalize(mean=[0.485, 0.456, 0.406], std=[0.229, 0.224, 0.225]),\n",
        "    ])\n",
        "    input_tensor = transform(input_image)\n",
        "    input_batch = input_tensor.unsqueeze(0) # create a mini-batch as expected by the model\n",
        "    return input_batch\n",
        "\n",
        "def get_features(input):\n",
        "    output = model(input)\n",
        "    return features['icp1'].flatten()\n",
        "\n",
        "filename = [\"images/road.png\", \"images/road2.png\", \"images/rail.png\", \"images/rail2.png\"]\n",
        "outputs = []\n",
        "for img in filename:\n",
        "    input = preprocess(img)\n",
        "    outputs.append(get_features(input))"
      ]
    },
    {
      "cell_type": "code",
      "execution_count": 54,
      "id": "6341d2fb",
      "metadata": {},
      "outputs": [
        {
          "name": "stdout",
          "output_type": "stream",
          "text": [
            "tensor(0.9086)\n",
            "tensor(0.8983)\n",
            "tensor(0.9108)\n"
          ]
        }
      ],
      "source": [
        "def get_similarity(input1, input2):\n",
        "    cos = nn.CosineSimilarity(dim=0, eps=1e-6)\n",
        "    return cos(input1, input2)\n",
        "\n",
        "print(get_similarity(outputs[0], outputs[1]))\n",
        "print(get_similarity(outputs[0], outputs[2]))\n",
        "print(get_similarity(outputs[0], outputs[3]))"
      ]
    }
  ],
  "metadata": {
    "colab": {
      "name": "pytorch_vision_googlenet.ipynb",
      "provenance": []
    },
    "interpreter": {
      "hash": "5d41c24aa7bc539c1e5b2b8472fb4f5e6fdc1aae223a5e4e26647df085f4bdf4"
    },
    "kernelspec": {
      "display_name": "Python 3.8.12 ('d2l')",
      "language": "python",
      "name": "python3"
    },
    "language_info": {
      "codemirror_mode": {
        "name": "ipython",
        "version": 3
      },
      "file_extension": ".py",
      "mimetype": "text/x-python",
      "name": "python",
      "nbconvert_exporter": "python",
      "pygments_lexer": "ipython3",
      "version": "3.8.12"
    }
  },
  "nbformat": 4,
  "nbformat_minor": 5
}
