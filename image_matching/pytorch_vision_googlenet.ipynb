{
  "cells": [
    {
      "cell_type": "markdown",
      "id": "fd92ffde",
      "metadata": {},
      "source": [
        "TODO\n",
        "1. extract features by googlenet\n",
        "2. compute similarity\n",
        "3. test on Place dataset"
      ]
    },
    {
      "cell_type": "markdown",
      "id": "869d67b1",
      "metadata": {},
      "source": [
        "## Feature extraction"
      ]
    },
    {
      "cell_type": "code",
      "execution_count": 129,
      "id": "9c734a4c",
      "metadata": {},
      "outputs": [],
      "source": [
        "database = \"images/Nordland_data\"\n",
        "query = \"images/Nordland_query\""
      ]
    },
    {
      "cell_type": "markdown",
      "id": "3125c4b2",
      "metadata": {},
      "source": [
        "### Using GoogLenet"
      ]
    },
    {
      "cell_type": "code",
      "execution_count": 130,
      "id": "e8fa50a8",
      "metadata": {},
      "outputs": [
        {
          "data": {
            "text/plain": [
              "<torch.utils.hooks.RemovableHandle at 0x27b2915d460>"
            ]
          },
          "execution_count": 130,
          "metadata": {},
          "output_type": "execute_result"
        }
      ],
      "source": [
        "import torch\n",
        "import torch.nn as nn\n",
        "import torch.nn.functional as F\n",
        "import numpy as np\n",
        "import matplotlib.pyplot as plt\n",
        "\n",
        "from googlenet_places205 import GoogLeNetPlaces205\n",
        "model = GoogLeNetPlaces205()\n",
        "model.load_state_dict(torch.load(\"googlenet_places205.pth\"))\n",
        "\n",
        "# from googlenet_places365 import GoogLeNetPlaces365\n",
        "# model = GoogLeNetPlaces365()\n",
        "# model.load_state_dict(torch.load(\"googlenet_places365.pth\"))\n",
        "\n",
        "features = {}\n",
        "\n",
        "\n",
        "def get_middle_output(name):\n",
        "    def hook(model, input, output):\n",
        "        features[name] = (output.detach())\n",
        "    return hook\n",
        "\n",
        "\n",
        "model.inception_3a_3x3_reduce.register_forward_hook(get_middle_output('icp1'))\n"
      ]
    },
    {
      "cell_type": "code",
      "execution_count": 131,
      "id": "a5262180",
      "metadata": {},
      "outputs": [
        {
          "name": "stdout",
          "output_type": "stream",
          "text": [
            "torch.Size([75264])\n",
            "torch.Size([75264])\n"
          ]
        },
        {
          "data": {
            "image/png": "[encoded data removed]",
            "text/plain": [
              "<Figure size 432x288 with 1 Axes>"
            ]
          },
          "metadata": {
            "needs_background": "light"
          },
          "output_type": "display_data"
        }
      ],
      "source": [
        "import os\n",
        "from PIL import Image\n",
        "from torchvision import transforms\n",
        "\n",
        "\n",
        "def preprocess_singe_img(filename):\n",
        "    input_image = Image.open(filename)\n",
        "    transform = transforms.Compose([\n",
        "        transforms.Resize([224,224]),\n",
        "        # transforms.CenterCrop(224),\n",
        "        transforms.ToTensor(),\n",
        "        transforms.Normalize(mean=[0.485, 0.456, 0.406], std=[\n",
        "                             0.229, 0.224, 0.225]),\n",
        "    ])\n",
        "    input_tensor = transform(input_image)\n",
        "    # create a mini-batch as expected by the model\n",
        "    input_batch = input_tensor.unsqueeze(0)\n",
        "    return input_batch, np.array(input_image)\n",
        "\n",
        "\n",
        "def get_features(input):\n",
        "    output = model(input)\n",
        "    return features['icp1'].flatten()\n",
        "\n",
        "\n",
        "def get_similarity(input1, input2):\n",
        "    cos = nn.CosineSimilarity(dim=0, eps=1e-6)\n",
        "    return cos(input1, input2)\n",
        "\n",
        "\n",
        "def process_images_from_folder(folder):\n",
        "    image_features = []\n",
        "    images = []\n",
        "    dir_list = sorted(os.listdir(folder))\n",
        "    for filename in dir_list:\n",
        "        if filename is not None:\n",
        "            input, image = preprocess_singe_img(folder + '/' + filename)\n",
        "            images.append(image)\n",
        "            image_features.append(get_features(input))\n",
        "    # print(image_features[0].shape)\n",
        "    return image_features, images\n",
        "\n",
        "\n",
        "database_features, database_images = process_images_from_folder(database)\n",
        "query_features, query_images = process_images_from_folder(query)\n",
        "\n",
        "similarity_matrix = np.zeros(\n",
        "    (len(query_features), len(database_features)))  # Q by D\n",
        "\n",
        "for i in range(len(query_features)):\n",
        "    for j in range(len(database_features)):\n",
        "        similarity_matrix[i][j] = get_similarity(\n",
        "            query_features[i], database_features[j])\n",
        "normalized_mat=F.normalize(torch.tensor(similarity_matrix),dim=0)\n",
        "similarity_matrix=np.array(normalized_mat)\n",
        "plt.imshow(similarity_matrix)\n",
        "plt.show()\n"
      ]
    },
    {
      "cell_type": "markdown",
      "id": "9842cef3",
      "metadata": {},
      "source": [
        "### Using HOG"
      ]
    },
    {
      "cell_type": "code",
      "execution_count": 132,
      "id": "2e59c5be",
      "metadata": {},
      "outputs": [
        {
          "data": {
            "image/png": "[encoded data removed]",
            "text/plain": [
              "<Figure size 432x288 with 1 Axes>"
            ]
          },
          "metadata": {
            "needs_background": "light"
          },
          "output_type": "display_data"
        }
      ],
      "source": [
        "from skimage.feature import hog\n",
        "from skimage import exposure\n",
        "\n",
        "\n",
        "def hog_preprocess_singe_img(filename):\n",
        "    input_image = Image.open(filename)\n",
        "    transform = transforms.Compose([\n",
        "        # transforms.Resize(256),\n",
        "        # transforms.CenterCrop(224),\n",
        "        transforms.ToTensor(),\n",
        "        transforms.Normalize(mean=[0.485, 0.456, 0.406], std=[\n",
        "                             0.229, 0.224, 0.225]),\n",
        "        transforms.Grayscale(num_output_channels=1),\n",
        "    ])\n",
        "    input_tensor = transform(input_image)\n",
        "    # input_batch = input_tensor.unsqueeze(0) # create a mini-batch as expected by the model\n",
        "    return input_tensor, np.array(input_image)\n",
        "\n",
        "\n",
        "def get_hog_features(input):\n",
        "    fd = hog(input.squeeze(), orientations=10, pixels_per_cell=(32, 32),\n",
        "             cells_per_block=(2, 2))\n",
        "    return fd\n",
        "\n",
        "\n",
        "def hog_process_images_from_folder(folder):\n",
        "    image_features = []\n",
        "    images = []\n",
        "    dir_list = sorted(os.listdir(folder))\n",
        "    for filename in dir_list:\n",
        "        if (filename is not None):\n",
        "            input, image = hog_preprocess_singe_img(folder + '/' + filename)\n",
        "            image_features.append(get_hog_features(input))\n",
        "            images.append(image)\n",
        "    return image_features, images\n",
        "\n",
        "\n",
        "hog_database_features, hog_database_images = hog_process_images_from_folder(\n",
        "    database)\n",
        "hog_query_features, hog_query_images = hog_process_images_from_folder(query)\n",
        "\n",
        "hog_similarity_matrix = np.zeros(\n",
        "    (len(hog_query_features), len(hog_database_features)))  # Q by D\n",
        "\n",
        "for i in range(len(hog_query_features)):\n",
        "    for j in range(len(hog_database_features)):\n",
        "        hog_similarity_matrix[i][j] = get_similarity(torch.from_numpy(\n",
        "            hog_query_features[i]), torch.from_numpy(hog_database_features[j]))\n",
        "normalized_mat=F.normalize(torch.tensor(hog_similarity_matrix),dim=0)\n",
        "hog_similarity_matrix=np.array(normalized_mat)\n",
        "plt.imshow(hog_similarity_matrix)\n",
        "plt.show()\n"
      ]
    },
    {
      "cell_type": "markdown",
      "id": "6aead36d",
      "metadata": {},
      "source": [
        "Show pictures"
      ]
    },
    {
      "cell_type": "code",
      "execution_count": 5,
      "id": "203e759f",
      "metadata": {},
      "outputs": [],
      "source": [
        "def visualize(database_images, query_images, similarity_matrix, query_num=10):\n",
        "    matches = np.argmax(similarity_matrix, axis=1)\n",
        "    # query_num=len(query_images)\n",
        "    fig, ax = plt.subplots(query_num, 2, figsize=(8, 60))\n",
        "    fig.tight_layout()\n",
        "    for i in range(query_num):\n",
        "        ax[i, 0].imshow(query_images[i])\n",
        "        ax[i, 0].set_title(i)\n",
        "        ax[i, 1].imshow(database_images[matches[i]])\n",
        "        ax[i, 1].set_title(matches[i])\n",
        "    fig.show()\n",
        "\n",
        "# visualize(hog_database_images,hog_query_images,hog_similarity_matrix)\n",
        "# visualize(database_images,query_images,similarity_matrix)\n"
      ]
    },
    {
      "cell_type": "markdown",
      "id": "28f48979",
      "metadata": {},
      "source": [
        "## Minumum flow"
      ]
    },
    {
      "cell_type": "code",
      "execution_count": 133,
      "id": "951616c5",
      "metadata": {},
      "outputs": [],
      "source": [
        "import networkx as nx"
      ]
    },
    {
      "cell_type": "code",
      "execution_count": 7,
      "id": "9bb1aea0",
      "metadata": {},
      "outputs": [],
      "source": [
        "# # An example of min cost flow\n",
        "# G = nx.DiGraph()\n",
        "# G.add_node(\"a\", demand=-5)\n",
        "# G.add_node(\"d\", demand=5)\n",
        "# G.add_edge(\"a\", \"b\", weight=3, capacity=4)\n",
        "# G.add_edge(\"a\", \"c\", weight=6, capacity=10)\n",
        "# G.add_edge(\"b\", \"d\", weight=1, capacity=9)\n",
        "# G.add_edge(\"c\", \"d\", weight=2, capacity=5)\n",
        "# flowDict = nx.min_cost_flow(G)\n",
        "# print(flowDict)\n"
      ]
    },
    {
      "cell_type": "code",
      "execution_count": 151,
      "id": "12704e53",
      "metadata": {},
      "outputs": [],
      "source": [
        "# Generate the graph\n",
        "def minCostFlow(similarity_matrix):\n",
        "    # Definie our problem\n",
        "    G = nx.DiGraph()\n",
        "\n",
        "    # Size of query and data\n",
        "    Q = similarity_matrix.shape[0]\n",
        "    D = similarity_matrix.shape[1]\n",
        "\n",
        "    F = 5  # Flow\n",
        "    K = 4  # Span\n",
        "\n",
        "    w_h = 1  # weight for connecting hidden units\n",
        "\n",
        "    G.add_node(\"s\", demand=-F)\n",
        "    G.add_node(\"t\", demand=F)\n",
        "\n",
        "    # Episolon s\n",
        "    for j in range(1, D+1):\n",
        "        G.add_edge(\"s\", (1, j), weight=0, capacity=1)\n",
        "        G.add_edge(\"s\", (-1, -j), weight=0, capacity=1)\n",
        "\n",
        "    # Episolon t\n",
        "    for j in range(1, D+1):\n",
        "        G.add_edge((Q, j), \"t\", weight=0, capacity=1)\n",
        "        G.add_edge((-Q, -j), \"t\", weight=0, capacity=1)\n",
        "\n",
        "    # Episolon a and b\n",
        "    for i in range(1, Q):\n",
        "        for j in range(1, D+1):\n",
        "            for k in range(j, min(max(j+K, D), D+1)):\n",
        "                # print(k)\n",
        "                G.add_edge((i, j), (i+1, k), weight=1 /\n",
        "                           similarity_matrix[i-1][j-1], capacity=1)\n",
        "                G.add_edge((-i, -j), (-i-1, -k), weight=5, capacity=1)\n",
        "                G.add_edge((i, j), (-i-1, -k), weight=5, capacity=1)\n",
        "                G.add_edge((-i, -j), (i+1, k), weight=1 /\n",
        "                           similarity_matrix[i-1][j-1], capacity=1)\n",
        "                # G.add_edge((i,j), (i+1,k), weight=0, capacity=1)\n",
        "                # G.add_edge((-i,-j), (-i-1,-k), weight=0, capacity=1)\n",
        "                # G.add_edge((i,j), (-i-1,-k), weight=0, capacity=1)\n",
        "                # G.add_edge((-i,-j), (i+1,k), weight=0, capacity=1)\n",
        "\n",
        "    # Episolon h\n",
        "    for i in range(1, Q+1):\n",
        "        for j in range(1, D-1):\n",
        "            G.add_edge((i, j), (i, j+1), weight=0, capacity=1)\n",
        "            G.add_edge((i, j), (-i, -j-1), weight=0, capacity=1)\n",
        "            G.add_edge((-i, -j), (i, j+1), weight=0, capacity=1)\n",
        "            G.add_edge((-i, -j), (-i, -j-1), weight=0, capacity=1)\n",
        "    return G\n"
      ]
    },
    {
      "cell_type": "code",
      "execution_count": 152,
      "id": "43672db6",
      "metadata": {},
      "outputs": [
        {
          "name": "stdout",
          "output_type": "stream",
          "text": [
            "172916\n"
          ]
        }
      ],
      "source": [
        "G = minCostFlow(similarity_matrix)\n",
        "print(G.number_of_edges())"
      ]
    },
    {
      "cell_type": "code",
      "execution_count": 10,
      "id": "76f85d0b",
      "metadata": {},
      "outputs": [],
      "source": [
        "# min cost flow solution\n",
        "# flowDict = nx.min_cost_flow(G)\n",
        "# print(flowDict)"
      ]
    },
    {
      "cell_type": "code",
      "execution_count": 147,
      "id": "4c90048c",
      "metadata": {},
      "outputs": [
        {
          "name": "stdout",
          "output_type": "stream",
          "text": [
            "['t', (30, 54), (-30, -54), (30, 53), (-30, -53), (-29, -54), (29, 54), (-29, -53), (29, 53), (30, 52), (-30, -52), (28, 54), (-28, -54), (28, 53), (-28, -53), (-29, -52), (29, 52), (30, 51), (-30, -51), (-27, -54), (27, 54), (-27, -53), (27, 53), (28, 52), (-28, -52), (-29, -51), (29, 51), (30, 50), (-30, -50), (26, 54), (-26, -54), (26, 53), (-26, -53), (-27, -52), (27, 52), (28, 51), (-28, -51), (-29, -50), (29, 50), (30, 49), (-30, -49), (-25, -54), (25, 54), (-25, -53), (25, 53), (26, 52), (-26, -52), (-27, -51), (27, 51), (28, 50), (-28, -50), (-29, -49), (29, 49), (30, 48), (-30, -48), (24, 54), (-24, -54), (24, 53), (-24, -53), (-25, -52), (25, 52), (26, 51), (-26, -51), (-27, -50), (27, 50), (28, 49), (-28, -49), (-29, -48), (29, 48), (30, 47), (-30, -47), (-23, -54), (23, 54), (-23, -53), (23, 53), (24, 52), (-24, -52), (-25, -51), (25, 51), (26, 50), (-26, -50), (-27, -49), (27, 49), (28, 48), (-28, -48), (-29, -47), (29, 47), (30, 46), (-30, -46), (22, 54), (-22, -54), (22, 53), (-22, -53), (-23, -52), (23, 52), (24, 51), (-24, -51), (-25, -50), (25, 50), (26, 49), (-26, -49), (-27, -48), (27, 48), (28, 47), (-28, -47), (-29, -46), (29, 46), (30, 45), (-30, -45), (-21, -54), (21, 54), (-21, -53), (21, 53), (22, 52), (-22, -52), (-23, -51), (23, 51), (24, 50), (-24, -50), (-25, -49), (25, 49), (26, 48), (-26, -48), (-27, -47), (27, 47), (28, 46), (-28, -46), (-29, -45), (29, 45), (30, 44), (-30, -44), (20, 54), (-20, -54), (20, 53), (-20, -53), (-21, -52), (21, 52), (22, 51), (-22, -51), (-23, -50), (23, 50), (24, 49), (-24, -49), (-25, -48), (25, 48), (26, 47), (-26, -47), (-27, -46), (27, 46), (28, 45), (-28, -45), (-29, -44), (29, 44), (30, 43), (-30, -43), (-19, -54), (19, 54), (-19, -53), (19, 53), (20, 52), (-20, -52), (-21, -51), (21, 51), (22, 50), (-22, -50), (-23, -49), (23, 49), (24, 48), (-24, -48), (-25, -47), (25, 47), (26, 46), (-26, -46), (-27, -45), (27, 45), (28, 44), (-28, -44), (-29, -43), (29, 43), (30, 42), (-30, -42), (18, 54), (-18, -54), (18, 53), (-18, -53), (-19, -52), (19, 52), (20, 51), (-20, -51), (-21, -50), (21, 50), (22, 49), (-22, -49), (-23, -48), (23, 48), (24, 47), (-24, -47), (-25, -46), (25, 46), (26, 45), (-26, -45), (-27, -44), (27, 44), (28, 43), (-28, -43), (-29, -42), (29, 42), (30, 41), (-30, -41), (-17, -54), (17, 54), (-17, -53), (17, 53), (18, 52), (-18, -52), (-19, -51), (19, 51), (20, 50), (-20, -50), (-21, -49), (21, 49), (22, 48), (-22, -48), (-23, -47), (23, 47), (24, 46), (-24, -46), (-25, -45), (25, 45), (26, 44), (-26, -44), (-27, -43), (27, 43), (28, 42), (-28, -42), (-29, -41), (29, 41), (30, 40), (-30, -40), (16, 54), (-16, -54), (16, 53), (-16, -53), (-17, -52), (17, 52), (18, 51), (-18, -51), (-19, -50), (19, 50), (20, 49), (-20, -49), (-21, -48), (21, 48), (22, 47), (-22, -47), (-23, -46), (23, 46), (24, 45), (-24, -45), (-25, -44), (25, 44), (26, 43), (-26, -43), (-27, -42), (27, 42), (28, 41), (-28, -41), (-29, -40), (29, 40), (30, 39), (-30, -39), (-15, -54), (15, 54), (-15, -53), (15, 53), (16, 52), (-16, -52), (-17, -51), (17, 51), (18, 50), (-18, -50), (-19, -49), (19, 49), (20, 48), (-20, -48), (-21, -47), (21, 47), (22, 46), (-22, -46), (-23, -45), (23, 45), (24, 44), (-24, -44), (-25, -43), (25, 43), (26, 42), (-26, -42), (-27, -41), (27, 41), (28, 40), (-28, -40), (-29, -39), (29, 39), (30, 38), (-30, -38), (14, 54), (-14, -54), (14, 53), (-14, -53), (-15, -52), (15, 52), (16, 51), (-16, -51), (-17, -50), (17, 50), (18, 49), (-18, -49), (-19, -48), (19, 48), (20, 47), (-20, -47), (-21, -46), (21, 46), (22, 45), (-22, -45), (-23, -44), (23, 44), (24, 43), (-24, -43), (-25, -42), (25, 42), (26, 41), (-26, -41), (-27, -40), (27, 40), (28, 39), (-28, -39), (-29, -38), (29, 38), (30, 37), (-30, -37), (-13, -54), (13, 54), (-13, -53), (13, 53), (14, 52), (-14, -52), (-15, -51), (15, 51), (16, 50), (-16, -50), (-17, -49), (17, 49), (18, 48), (-18, -48), (-19, -47), (19, 47), (20, 46), (-20, -46), (-21, -45), (21, 45), (22, 44), (-22, -44), (-23, -43), (23, 43), (24, 42), (-24, -42), (-25, -41), (25, 41), (26, 40), (-26, -40), (-27, -39), (27, 39), (28, 38), (-28, -38), (-29, -37), (29, 37), (30, 36), (-30, -36), (12, 54), (-12, -54), (12, 53), (-12, -53), (-13, -52), (13, 52), (14, 51), (-14, -51), (-15, -50), (15, 50), (16, 49), (-16, -49), (-17, -48), (17, 48), (18, 47), (-18, -47), (-19, -46), (19, 46), (20, 45), (-20, -45), (-21, -44), (21, 44), (22, 43), (-22, -43), (-23, -42), (23, 42), (24, 41), (-24, -41), (-25, -40), (25, 40), (26, 39), (-26, -39), (-27, -38), (27, 38), (28, 37), (-28, -37), (-29, -36), (29, 36), (30, 35), (-30, -35), (-11, -54), (11, 54), (-11, -53), (11, 53), (12, 52), (-12, -52), (-13, -51), (13, 51), (14, 50), (-14, -50), (-15, -49), (15, 49), (16, 48), (-16, -48), (-17, -47), (17, 47), (18, 46), (-18, -46), (-19, -45), (19, 45), (20, 44), (-20, -44), (-21, -43), (21, 43), (22, 42), (-22, -42), (-23, -41), (23, 41), (24, 40), (-24, -40), (-25, -39), (25, 39), (26, 38), (-26, -38), (-27, -37), (27, 37), (28, 36), (-28, -36), (-29, -35), (29, 35), (30, 34), (-30, -34), (10, 54), (-10, -54), (10, 53), (-10, -53), (-11, -52), (11, 52), (12, 51), (-12, -51), (-13, -50), (13, 50), (14, 49), (-14, -49), (-15, -48), (15, 48), (16, 47), (-16, -47), (-17, -46), (17, 46), (18, 45), (-18, -45), (-19, -44), (19, 44), (20, 43), (-20, -43), (-21, -42), (21, 42), (22, 41), (-22, -41), (-23, -40), (23, 40), (24, 39), (-24, -39), (-25, -38), (25, 38), (26, 37), (-26, -37), (-27, -36), (27, 36), (28, 35), (-28, -35), (-29, -34), (29, 34), (30, 33), (-30, -33), (-9, -54), (9, 54), (-9, -53), (9, 53), (10, 52), (-10, -52), (-11, -51), (11, 51), (12, 50), (-12, -50), (-13, -49), (13, 49), (14, 48), (-14, -48), (-15, -47), (15, 47), (16, 46), (-16, -46), (-17, -45), (17, 45), (18, 44), (-18, -44), (-19, -43), (19, 43), (20, 42), (-20, -42), (-21, -41), (21, 41), (22, 40), (-22, -40), (-23, -39), (23, 39), (24, 38), (-24, -38), (-25, -37), (25, 37), (26, 36), (-26, -36), (-27, -35), (27, 35), (28, 34), (-28, -34), (-29, -33), (29, 33), (30, 32), (-30, -32), (8, 54), (-8, -54), (8, 53), (-8, -53), (-9, -52), (9, 52), (10, 51), (-10, -51), (-11, -50), (11, 50), (12, 49), (-12, -49), (-13, -48), (13, 48), (14, 47), (-14, -47), (-15, -46), (15, 46), (16, 45), (-16, -45), (-17, -44), (17, 44), (18, 43), (-18, -43), (-19, -42), (19, 42), (20, 41), (-20, -41), (-21, -40), (21, 40), (22, 39), (-22, -39), (-23, -38), (23, 38), (24, 37), (-24, -37), (-25, -36), (25, 36), (26, 35), (-26, -35), (-27, -34), (27, 34), (28, 33), (-28, -33), (-29, -32), (29, 32), (30, 31), (-30, -31), (-7, -54), (7, 54), (-7, -53), (7, 53), (8, 52), (-8, -52), (-9, -51), (9, 51), (10, 50), (-10, -50), (-11, -49), (11, 49), (12, 48), (-12, -48), (-13, -47), (13, 47), (14, 46), (-14, -46), (-15, -45), (15, 45), (16, 44), (-16, -44), (-17, -43), (17, 43), (18, 42), (-18, -42), (-19, -41), (19, 41), (20, 40), (-20, -40), (-21, -39), (21, 39), (22, 38), (-22, -38), (-23, -37), (23, 37), (24, 36), (-24, -36), (-25, -35), (25, 35), (26, 34), (-26, -34), (-27, -33), (27, 33), (28, 32), (-28, -32), (-29, -31), (29, 31), (30, 30), (-30, -30), (6, 54), (-6, -54), (6, 53), (-6, -53), (-7, -52), (7, 52), (8, 51), (-8, -51), (-9, -50), (9, 50), (10, 49), (-10, -49), (-11, -48), (11, 48), (12, 47), (-12, -47), (-13, -46), (13, 46), (14, 45), (-14, -45), (-15, -44), (15, 44), (16, 43), (-16, -43), (-17, -42), (17, 42), (18, 41), (-18, -41), (-19, -40), (19, 40), (20, 39), (-20, -39), (-21, -38), (21, 38), (22, 37), (-22, -37), (-23, -36), (23, 36), (24, 35), (-24, -35), (-25, -34), (25, 34), (26, 33), (-26, -33), (-27, -32), (27, 32), (28, 31), (-28, -31), (-29, -30), (29, 30), (30, 29), (-30, -29), (-5, -54), (5, 54), (-5, -53), (5, 53), (6, 52), (-6, -52), (-7, -51), (7, 51), (8, 50), (-8, -50), (-9, -49), (9, 49), (10, 48), (-10, -48), (-11, -47), (11, 47), (12, 46), (-12, -46), (-13, -45), (13, 45), (14, 44), (-14, -44), (-15, -43), (15, 43), (16, 42), (-16, -42), (-17, -41), (17, 41), (18, 40), (-18, -40), (-19, -39), (19, 39), (20, 38), (-20, -38), (-21, -37), (21, 37), (22, 36), (-22, -36), (-23, -35), (23, 35), (24, 34), (-24, -34), (-25, -33), (25, 33), (26, 32), (-26, -32), (-27, -31), (27, 31), (28, 30), (-28, -30), (-29, -29), (29, 29), (30, 28), (-30, -28), (4, 54), (-4, -54), (4, 53), (-4, -53), (-5, -52), (5, 52), (6, 51), (-6, -51), (-7, -50), (7, 50), (8, 49), (-8, -49), (-9, -48), (9, 48), (10, 47), (-10, -47), (-11, -46), (11, 46), (12, 45), (-12, -45), (-13, -44), (13, 44), (14, 43), (-14, -43), (-15, -42), (15, 42), (16, 41), (-16, -41), (-17, -40), (17, 40), (18, 39), (-18, -39), (-19, -38), (19, 38), (20, 37), (-20, -37), (-21, -36), (21, 36), (22, 35), (-22, -35), (-23, -34), (23, 34), (24, 33), (-24, -33), (-25, -32), (25, 32), (26, 31), (-26, -31), (-27, -30), (27, 30), (28, 29), (-28, -29), (-29, -28), (29, 28), (30, 27), (-30, -27), (-3, -54), (3, 54), (-3, -53), (3, 53), (4, 52), (-4, -52), (-5, -51), (5, 51), (6, 50), (-6, -50), (-7, -49), (7, 49), (8, 48), (-8, -48), (-9, -47), (9, 47), (10, 46), (-10, -46), (-11, -45), (11, 45), (12, 44), (-12, -44), (-13, -43), (13, 43), (14, 42), (-14, -42), (-15, -41), (15, 41), (16, 40), (-16, -40), (-17, -39), (17, 39), (18, 38), (-18, -38), (-19, -37), (19, 37), (20, 36), (-20, -36), (-21, -35), (21, 35), (22, 34), (-22, -34), (-23, -33), (23, 33), (24, 32), (-24, -32), (-25, -31), (25, 31), (26, 30), (-26, -30), (-27, -29), (27, 29), (28, 28), (-28, -28), (-29, -27), (29, 27), (30, 26), (-30, -26), (2, 54), (-2, -54), (2, 53), (-2, -53), (-3, -52), (3, 52), (4, 51), (-4, -51), (-5, -50), (5, 50), (6, 49), (-6, -49), (-7, -48), (7, 48), (8, 47), (-8, -47), (-9, -46), (9, 46), (10, 45), (-10, -45), (-11, -44), (11, 44), (12, 43), (-12, -43), (-13, -42), (13, 42), (14, 41), (-14, -41), (-15, -40), (15, 40), (16, 39), (-16, -39), (-17, -38), (17, 38), (18, 37), (-18, -37), (-19, -36), (19, 36), (20, 35), (-20, -35), (-21, -34), (21, 34), (22, 33), (-22, -33), (-23, -32), (23, 32), (24, 31), (-24, -31), (-25, -30), (25, 30), (26, 29), (-26, -29), (-27, -28), (27, 28), (28, 27), (-28, -27), (-29, -26), (29, 26), (30, 25), (-30, -25), (-1, -53), (1, 53), (2, 52), (-2, -52), (-3, -51), (3, 51), (4, 50), (-4, -50), (-5, -49), (5, 49), (6, 48), (-6, -48), (-7, -47), (7, 47), (8, 46), (-8, -46), (-9, -45), (9, 45), (10, 44), (-10, -44), (-11, -43), (11, 43), (12, 42), (-12, -42), (-13, -41), (13, 41), (14, 40), (-14, -40), (-15, -39), (15, 39), (16, 38), (-16, -38), (-17, -37), (17, 37), (18, 36), (-18, -36), (-19, -35), (19, 35), (20, 34), (-20, -34), (-21, -33), (21, 33), (22, 32), (-22, -32), (-23, -31), (23, 31), (24, 30), (-24, -30), (-25, -29), (25, 29), (26, 28), (-26, -28), (-27, -27), (27, 27), (28, 26), (-28, -26), (-29, -25), (29, 25), (30, 24), (-30, -24), (-1, -52), (1, 52), (2, 51), (-2, -51), (-3, -50), (3, 50), (4, 49), (-4, -49), (-5, -48), (5, 48), (6, 47), (-6, -47), (-7, -46), (7, 46), (8, 45), (-8, -45), (-9, -44), (9, 44), (10, 43), (-10, -43), (-11, -42), (11, 42), (12, 41), (-12, -41), (-13, -40), (13, 40), (14, 39), (-14, -39), (-15, -38), (15, 38), (16, 37), (-16, -37), (-17, -36), (17, 36), (18, 35), (-18, -35), (-19, -34), (19, 34), (20, 33), (-20, -33), (-21, -32), (21, 32), (22, 31), (-22, -31), (-23, -30), (23, 30), (24, 29), (-24, -29), (-25, -28), (25, 28), (26, 27), (-26, -27), (-27, -26), (27, 26), (28, 25), (-28, -25), (-29, -24), (29, 24), (30, 23), (-30, -23), (-1, -51), (1, 51), (2, 50), (-2, -50), (-3, -49), (3, 49), (4, 48), (-4, -48), (-5, -47), (5, 47), (6, 46), (-6, -46), (-7, -45), (7, 45), (8, 44), (-8, -44), (-9, -43), (9, 43), (10, 42), (-10, -42), (-11, -41), (11, 41), (12, 40), (-12, -40), (-13, -39), (13, 39), (14, 38), (-14, -38), (-15, -37), (15, 37), (16, 36), (-16, -36), (-17, -35), (17, 35), (18, 34), (-18, -34), (-19, -33), (19, 33), (20, 32), (-20, -32), (-21, -31), (21, 31), (22, 30), (-22, -30), (-23, -29), (23, 29), (24, 28), (-24, -28), (-25, -27), (25, 27), (26, 26), (-26, -26), (-27, -25), (27, 25), (28, 24), (-28, -24), (-29, -23), (29, 23), (30, 22), (-30, -22), (-1, -50), (1, 50), (2, 49), (-2, -49), (-3, -48), (3, 48), (4, 47), (-4, -47), (-5, -46), (5, 46), (6, 45), (-6, -45), (-7, -44), (7, 44), (8, 43), (-8, -43), (-9, -42), (9, 42), (10, 41), (-10, -41), (-11, -40), (11, 40), (12, 39), (-12, -39), (-13, -38), (13, 38), (14, 37), (-14, -37), (-15, -36), (15, 36), (16, 35), (-16, -35), (-17, -34), (17, 34), (18, 33), (-18, -33), (-19, -32), (19, 32), (20, 31), (-20, -31), (-21, -30), (21, 30), (22, 29), (-22, -29), (-23, -28), (23, 28), (24, 27), (-24, -27), (-25, -26), (25, 26), (26, 25), (-26, -25), (-27, -24), (27, 24), (28, 23), (-28, -23), (-29, -22), (29, 22), (30, 21), (-30, -21), (-1, -49), (1, 49), (2, 48), (-2, -48), (-3, -47), (3, 47), (4, 46), (-4, -46), (-5, -45), (5, 45), (6, 44), (-6, -44), (-7, -43), (7, 43), (8, 42), (-8, -42), (-9, -41), (9, 41), (10, 40), (-10, -40), (-11, -39), (11, 39), (12, 38), (-12, -38), (-13, -37), (13, 37), (14, 36), (-14, -36), (-15, -35), (15, 35), (16, 34), (-16, -34), (-17, -33), (17, 33), (18, 32), (-18, -32), (-19, -31), (19, 31), (20, 30), (-20, -30), (-21, -29), (21, 29), (22, 28), (-22, -28), (-23, -27), (23, 27), (24, 26), (-24, -26), (-25, -25), (25, 25), (26, 24), (-26, -24), (-27, -23), (27, 23), (28, 22), (-28, -22), (-29, -21), (29, 21), (30, 20), (-30, -20), (-1, -48), (1, 48), (2, 47), (-2, -47), (-3, -46), (3, 46), (4, 45), (-4, -45), (-5, -44), (5, 44), (6, 43), (-6, -43), (-7, -42), (7, 42), (8, 41), (-8, -41), (-9, -40), (9, 40), (10, 39), (-10, -39), (-11, -38), (11, 38), (12, 37), (-12, -37), (-13, -36), (13, 36), (14, 35), (-14, -35), (-15, -34), (15, 34), (16, 33), (-16, -33), (-17, -32), (17, 32), (18, 31), (-18, -31), (-19, -30), (19, 30), (20, 29), (-20, -29), (-21, -28), (21, 28), (22, 27), (-22, -27), (-23, -26), (23, 26), (24, 25), (-24, -25), (-25, -24), (25, 24), (26, 23), (-26, -23), (-27, -22), (27, 22), (28, 21), (-28, -21), (-29, -20), (29, 20), (30, 19), (-30, -19), (-1, -47), (1, 47), (2, 46), (-2, -46), (-3, -45), (3, 45), (4, 44), (-4, -44), (-5, -43), (5, 43), (6, 42), (-6, -42), (-7, -41), (7, 41), (8, 40), (-8, -40), (-9, -39), (9, 39), (10, 38), (-10, -38), (-11, -37), (11, 37), (12, 36), (-12, -36), (-13, -35), (13, 35), (14, 34), (-14, -34), (-15, -33), (15, 33), (16, 32), (-16, -32), (-17, -31), (17, 31), (18, 30), (-18, -30), (-19, -29), (19, 29), (20, 28), (-20, -28), (-21, -27), (21, 27), (22, 26), (-22, -26), (-23, -25), (23, 25), (24, 24), (-24, -24), (-25, -23), (25, 23), (26, 22), (-26, -22), (-27, -21), (27, 21), (28, 20), (-28, -20), (-29, -19), (29, 19), (30, 18), (-30, -18), (-1, -46), (1, 46), (2, 45), (-2, -45), (-3, -44), (3, 44), (4, 43), (-4, -43), (-5, -42), (5, 42), (6, 41), (-6, -41), (-7, -40), (7, 40), (8, 39), (-8, -39), (-9, -38), (9, 38), (10, 37), (-10, -37), (-11, -36), (11, 36), (12, 35), (-12, -35), (-13, -34), (13, 34), (14, 33), (-14, -33), (-15, -32), (15, 32), (16, 31), (-16, -31), (-17, -30), (17, 30), (18, 29), (-18, -29), (-19, -28), (19, 28), (20, 27), (-20, -27), (-21, -26), (21, 26), (22, 25), (-22, -25), (-23, -24), (23, 24), (24, 23), (-24, -23), (-25, -22), (25, 22), (26, 21), (-26, -21), (-27, -20), (27, 20), (28, 19), (-28, -19), (-29, -18), (29, 18), (30, 17), (-30, -17), (-1, -45), (1, 45), (2, 44), (-2, -44), (-3, -43), (3, 43), (4, 42), (-4, -42), (-5, -41), (5, 41), (6, 40), (-6, -40), (-7, -39), (7, 39), (8, 38), (-8, -38), (-9, -37), (9, 37), (10, 36), (-10, -36), (-11, -35), (11, 35), (12, 34), (-12, -34), (-13, -33), (13, 33), (14, 32), (-14, -32), (-15, -31), (15, 31), (16, 30), (-16, -30), (-17, -29), (17, 29), (18, 28), (-18, -28), (-19, -27), (19, 27), (20, 26), (-20, -26), (-21, -25), (21, 25), (22, 24), (-22, -24), (-23, -23), (23, 23), (24, 22), (-24, -22), (-25, -21), (25, 21), (26, 20), (-26, -20), (-27, -19), (27, 19), (28, 18), (-28, -18), (-29, -17), (29, 17), (30, 16), (-30, -16), (-1, -44), (1, 44), (2, 43), (-2, -43), (-3, -42), (3, 42), (4, 41), (-4, -41), (-5, -40), (5, 40), (6, 39), (-6, -39), (-7, -38), (7, 38), (8, 37), (-8, -37), (-9, -36), (9, 36), (10, 35), (-10, -35), (-11, -34), (11, 34), (12, 33), (-12, -33), (-13, -32), (13, 32), (14, 31), (-14, -31), (-15, -30), (15, 30), (16, 29), (-16, -29), (-17, -28), (17, 28), (18, 27), (-18, -27), (-19, -26), (19, 26), (20, 25), (-20, -25), (-21, -24), (21, 24), (22, 23), (-22, -23), (-23, -22), (23, 22), (24, 21), (-24, -21), (-25, -20), (25, 20), (26, 19), (-26, -19), (-27, -18), (27, 18), (28, 17), (-28, -17), (-29, -16), (29, 16), (30, 15), (-30, -15), (-1, -43), (1, 43), (2, 42), (-2, -42), (-3, -41), (3, 41), (4, 40), (-4, -40), (-5, -39), (5, 39), (6, 38), (-6, -38), (-7, -37), (7, 37), (8, 36), (-8, -36), (-9, -35), (9, 35), (10, 34), (-10, -34), (-11, -33), (11, 33), (12, 32), (-12, -32), (-13, -31), (13, 31), (14, 30), (-14, -30), (-15, -29), (15, 29), (16, 28), (-16, -28), (-17, -27), (17, 27), (18, 26), (-18, -26), (-19, -25), (19, 25), (20, 24), (-20, -24), (-21, -23), (21, 23), (22, 22), (-22, -22), (-23, -21), (23, 21), (24, 20), (-24, -20), (-25, -19), (25, 19), (26, 18), (-26, -18), (-27, -17), (27, 17), (28, 16), (-28, -16), (-29, -15), (29, 15), (30, 14), (-30, -14), (-1, -42), (1, 42), (2, 41), (-2, -41), (-3, -40), (3, 40), (4, 39), (-4, -39), (-5, -38), (5, 38), (6, 37), (-6, -37), (-7, -36), (7, 36), (8, 35), (-8, -35), (-9, -34), (9, 34), (10, 33), (-10, -33), (-11, -32), (11, 32), (12, 31), (-12, -31), (-13, -30), (13, 30), (14, 29), (-14, -29), (-15, -28), (15, 28), (16, 27), (-16, -27), (-17, -26), (17, 26), (18, 25), (-18, -25), (-19, -24), (19, 24), (20, 23), (-20, -23), (-21, -22), (21, 22), (22, 21), (-22, -21), (-23, -20), (23, 20), (24, 19), (-24, -19), (-25, -18), (25, 18), (26, 17), (-26, -17), (-27, -16), (27, 16), (28, 15), (-28, -15), (-29, -14), (29, 14), (30, 13), (-30, -13), (-1, -41), (1, 41), (2, 40), (-2, -40), (-3, -39), (3, 39), (4, 38), (-4, -38), (-5, -37), (5, 37), (6, 36), (-6, -36), (-7, -35), (7, 35), (8, 34), (-8, -34), (-9, -33), (9, 33), (10, 32), (-10, -32), (-11, -31), (11, 31), (12, 30), (-12, -30), (-13, -29), (13, 29), (14, 28), (-14, -28), (-15, -27), (15, 27), (16, 26), (-16, -26), (-17, -25), (17, 25), (18, 24), (-18, -24), (-19, -23), (19, 23), (20, 22), (-20, -22), (-21, -21), (21, 21), (22, 20), (-22, -20), (-23, -19), (23, 19), (24, 18), (-24, -18), (-25, -17), (25, 17), (26, 16), (-26, -16), (-27, -15), (27, 15), (28, 14), (-28, -14), (-29, -13), (29, 13), (30, 12), (-30, -12), (-1, -40), (1, 40), (2, 39), (-2, -39), (-3, -38), (3, 38), (4, 37), (-4, -37), (-5, -36), (5, 36), (6, 35), (-6, -35), (-7, -34), (7, 34), (8, 33), (-8, -33), (-9, -32), (9, 32), (10, 31), (-10, -31), (-11, -30), (11, 30), (12, 29), (-12, -29), (-13, -28), (13, 28), (14, 27), (-14, -27), (-15, -26), (15, 26), (16, 25), (-16, -25), (-17, -24), (17, 24), (18, 23), (-18, -23), (-19, -22), (19, 22), (20, 21), (-20, -21), (-21, -20), (21, 20), (22, 19), (-22, -19), (-23, -18), (23, 18), (24, 17), (-24, -17), (-25, -16), (25, 16), (26, 15), (-26, -15), (-27, -14), (27, 14), (28, 13), (-28, -13), (-29, -12), (29, 12), (30, 11), (-30, -11), (-1, -39), (1, 39), (2, 38), (-2, -38), (-3, -37), (3, 37), (4, 36), (-4, -36), (-5, -35), (5, 35), (6, 34), (-6, -34), (-7, -33), (7, 33), (8, 32), (-8, -32), (-9, -31), (9, 31), (10, 30), (-10, -30), (-11, -29), (11, 29), (12, 28), (-12, -28), (-13, -27), (13, 27), (14, 26), (-14, -26), (-15, -25), (15, 25), (16, 24), (-16, -24), (-17, -23), (17, 23), (18, 22), (-18, -22), (-19, -21), (19, 21), (20, 20), (-20, -20), (-21, -19), (21, 19), (22, 18), (-22, -18), (-23, -17), (23, 17), (24, 16), (-24, -16), (-25, -15), (25, 15), (26, 14), (-26, -14), (-27, -13), (27, 13), (28, 12), (-28, -12), (-29, -11), (29, 11), (30, 10), (-30, -10), (-1, -38), (1, 38), (2, 37), (-2, -37), (-3, -36), (3, 36), (4, 35), (-4, -35), (-5, -34), (5, 34), (6, 33), (-6, -33), (-7, -32), (7, 32), (8, 31), (-8, -31), (-9, -30), (9, 30), (10, 29), (-10, -29), (-11, -28), (11, 28), (12, 27), (-12, -27), (-13, -26), (13, 26), (14, 25), (-14, -25), (-15, -24), (15, 24), (16, 23), (-16, -23), (-17, -22), (17, 22), (18, 21), (-18, -21), (-19, -20), (19, 20), (20, 19), (-20, -19), (-21, -18), (21, 18), (22, 17), (-22, -17), (-23, -16), (23, 16), (24, 15), (-24, -15), (-25, -14), (25, 14), (26, 13), (-26, -13), (-27, -12), (27, 12), (28, 11), (-28, -11), (-29, -10), (29, 10), (30, 9), (-30, -9), (-1, -37), (1, 37), (2, 36), (-2, -36), (-3, -35), (3, 35), (4, 34), (-4, -34), (-5, -33), (5, 33), (6, 32), (-6, -32), (-7, -31), (7, 31), (8, 30), (-8, -30), (-9, -29), (9, 29), (10, 28), (-10, -28), (-11, -27), (11, 27), (12, 26), (-12, -26), (-13, -25), (13, 25), (14, 24), (-14, -24), (-15, -23), (15, 23), (16, 22), (-16, -22), (-17, -21), (17, 21), (18, 20), (-18, -20), (-19, -19), (19, 19), (20, 18), (-20, -18), (-21, -17), (21, 17), (22, 16), (-22, -16), (-23, -15), (23, 15), (24, 14), (-24, -14), (-25, -13), (25, 13), (26, 12), (-26, -12), (-27, -11), (27, 11), (28, 10), (-28, -10), (-29, -9), (29, 9), (30, 8), (-30, -8), (-1, -36), (1, 36), (2, 35), (-2, -35), (-3, -34), (3, 34), (4, 33), (-4, -33), (-5, -32), (5, 32), (6, 31), (-6, -31), (-7, -30), (7, 30), (8, 29), (-8, -29), (-9, -28), (9, 28), (10, 27), (-10, -27), (-11, -26), (11, 26), (12, 25), (-12, -25), (-13, -24), (13, 24), (14, 23), (-14, -23), (-15, -22), (15, 22), (16, 21), (-16, -21), (-17, -20), (17, 20), (18, 19), (-18, -19), (-19, -18), (19, 18), (20, 17), (-20, -17), (-21, -16), (21, 16), (22, 15), (-22, -15), (-23, -14), (23, 14), (24, 13), (-24, -13), (-25, -12), (25, 12), (26, 11), (-26, -11), (-27, -10), (27, 10), (28, 9), (-28, -9), (-29, -8), (29, 8), (30, 7), (-30, -7), (-1, -35), (1, 35), (2, 34), (-2, -34), (-3, -33), (3, 33), (4, 32), (-4, -32), (-5, -31), (5, 31), (6, 30), (-6, -30), (-7, -29), (7, 29), (8, 28), (-8, -28), (-9, -27), (9, 27), (10, 26), (-10, -26), (-11, -25), (11, 25), (12, 24), (-12, -24), (-13, -23), (13, 23), (14, 22), (-14, -22), (-15, -21), (15, 21), (16, 20), (-16, -20), (-17, -19), (17, 19), (18, 18), (-18, -18), (-19, -17), (19, 17), (20, 16), (-20, -16), (-21, -15), (21, 15), (22, 14), (-22, -14), (-23, -13), (23, 13), (24, 12), (-24, -12), (-25, -11), (25, 11), (26, 10), (-26, -10), (-27, -9), (27, 9), (28, 8), (-28, -8), (-29, -7), (29, 7), (30, 6), (-30, -6), (-1, -34), (1, 34), (2, 33), (-2, -33), (-3, -32), (3, 32), (4, 31), (-4, -31), (-5, -30), (5, 30), (6, 29), (-6, -29), (-7, -28), (7, 28), (8, 27), (-8, -27), (-9, -26), (9, 26), (10, 25), (-10, -25), (-11, -24), (11, 24), (12, 23), (-12, -23), (-13, -22), (13, 22), (14, 21), (-14, -21), (-15, -20), (15, 20), (16, 19), (-16, -19), (-17, -18), (17, 18), (18, 17), (-18, -17), (-19, -16), (19, 16), (20, 15), (-20, -15), (-21, -14), (21, 14), (22, 13), (-22, -13), (-23, -12), (23, 12), (24, 11), (-24, -11), (-25, -10), (25, 10), (26, 9), (-26, -9), (-27, -8), (27, 8), (28, 7), (-28, -7), (-29, -6), (29, 6), (30, 5), (-30, -5), (-1, -33), (1, 33), (2, 32), (-2, -32), (-3, -31), (3, 31), (4, 30), (-4, -30), (-5, -29), (5, 29), (6, 28), (-6, -28), (-7, -27), (7, 27), (8, 26), (-8, -26), (-9, -25), (9, 25), (10, 24), (-10, -24), (-11, -23), (11, 23), (12, 22), (-12, -22), (-13, -21), (13, 21), (14, 20), (-14, -20), (-15, -19), (15, 19), (16, 18), (-16, -18), (-17, -17), (17, 17), (18, 16), (-18, -16), (-19, -15), (19, 15), (20, 14), (-20, -14), (-21, -13), (21, 13), (22, 12), (-22, -12), (-23, -11), (23, 11), (24, 10), (-24, -10), (-25, -9), (25, 9), (26, 8), (-26, -8), (-27, -7), (27, 7), (28, 6), (-28, -6), (-29, -5), (29, 5), (30, 4), (-30, -4), (-1, -32), (1, 32), (2, 31), (-2, -31), (-3, -30), (3, 30), (4, 29), (-4, -29), (-5, -28), (5, 28), (6, 27), (-6, -27), (-7, -26), (7, 26), (8, 25), (-8, -25), (-9, -24), (9, 24), (10, 23), (-10, -23), (-11, -22), (11, 22), (12, 21), (-12, -21), (-13, -20), (13, 20), (14, 19), (-14, -19), (-15, -18), (15, 18), (16, 17), (-16, -17), (-17, -16), (17, 16), (18, 15), (-18, -15), (-19, -14), (19, 14), (20, 13), (-20, -13), (-21, -12), (21, 12), (22, 11), (-22, -11), (-23, -10), (23, 10), (24, 9), (-24, -9), (-25, -8), (25, 8), (26, 7), (-26, -7), (-27, -6), (27, 6), (28, 5), (-28, -5), (-29, -4), (29, 4), (30, 3), (-30, -3), (-1, -31), (1, 31), (2, 30), (-2, -30), (-3, -29), (3, 29), (4, 28), (-4, -28), (-5, -27), (5, 27), (6, 26), (-6, -26), (-7, -25), (7, 25), (8, 24), (-8, -24), (-9, -23), (9, 23), (10, 22), (-10, -22), (-11, -21), (11, 21), (12, 20), (-12, -20), (-13, -19), (13, 19), (14, 18), (-14, -18), (-15, -17), (15, 17), (16, 16), (-16, -16), (-17, -15), (17, 15), (18, 14), (-18, -14), (-19, -13), (19, 13), (20, 12), (-20, -12), (-21, -11), (21, 11), (22, 10), (-22, -10), (-23, -9), (23, 9), (24, 8), (-24, -8), (-25, -7), (25, 7), (26, 6), (-26, -6), (-27, -5), (27, 5), (28, 4), (-28, -4), (-29, -3), (29, 3), (30, 2), (-30, -2), (-1, -30), (1, 30), (2, 29), (-2, -29), (-3, -28), (3, 28), (4, 27), (-4, -27), (-5, -26), (5, 26), (6, 25), (-6, -25), (-7, -24), (7, 24), (8, 23), (-8, -23), (-9, -22), (9, 22), (10, 21), (-10, -21), (-11, -20), (11, 20), (12, 19), (-12, -19), (-13, -18), (13, 18), (14, 17), (-14, -17), (-15, -16), (15, 16), (16, 15), (-16, -15), (-17, -14), (17, 14), (18, 13), (-18, -13), (-19, -12), (19, 12), (20, 11), (-20, -11), (-21, -10), (21, 10), (22, 9), (-22, -9), (-23, -8), (23, 8), (24, 7), (-24, -7), (-25, -6), (25, 6), (26, 5), (-26, -5), (-27, -4), (27, 4), (28, 3), (-28, -3), (-29, -2), (29, 2), (30, 1), (-30, -1), (-1, -29), (1, 29), (2, 28), (-2, -28), (-3, -27), (3, 27), (4, 26), (-4, -26), (-5, -25), (5, 25), (6, 24), (-6, -24), (-7, -23), (7, 23), (8, 22), (-8, -22), (-9, -21), (9, 21), (10, 20), (-10, -20), (-11, -19), (11, 19), (12, 18), (-12, -18), (-13, -17), (13, 17), (14, 16), (-14, -16), (-15, -15), (15, 15), (16, 14), (-16, -14), (-17, -13), (17, 13), (18, 12), (-18, -12), (-19, -11), (19, 11), (20, 10), (-20, -10), (-21, -9), (21, 9), (22, 8), (-22, -8), (-23, -7), (23, 7), (24, 6), (-24, -6), (-25, -5), (25, 5), (26, 4), (-26, -4), (-27, -3), (27, 3), (28, 2), (-28, -2), (-29, -1), (29, 1), (-1, -28), (1, 28), (2, 27), (-2, -27), (-3, -26), (3, 26), (4, 25), (-4, -25), (-5, -24), (5, 24), (6, 23), (-6, -23), (-7, -22), (7, 22), (8, 21), (-8, -21), (-9, -20), (9, 20), (10, 19), (-10, -19), (-11, -18), (11, 18), (12, 17), (-12, -17), (-13, -16), (13, 16), (14, 15), (-14, -15), (-15, -14), (15, 14), (16, 13), (-16, -13), (-17, -12), (17, 12), (18, 11), (-18, -11), (-19, -10), (19, 10), (20, 9), (-20, -9), (-21, -8), (21, 8), (22, 7), (-22, -7), (-23, -6), (23, 6), (24, 5), (-24, -5), (-25, -4), (25, 4), (26, 3), (-26, -3), (-27, -2), (27, 2), (28, 1), (-28, -1), (-1, -27), (1, 27), (2, 26), (-2, -26), (-3, -25), (3, 25), (4, 24), (-4, -24), (-5, -23), (5, 23), (6, 22), (-6, -22), (-7, -21), (7, 21), (8, 20), (-8, -20), (-9, -19), (9, 19), (10, 18), (-10, -18), (-11, -17), (11, 17), (12, 16), (-12, -16), (-13, -15), (13, 15), (14, 14), (-14, -14), (-15, -13), (15, 13), (16, 12), (-16, -12), (-17, -11), (17, 11), (18, 10), (-18, -10), (-19, -9), (19, 9), (20, 8), (-20, -8), (-21, -7), (21, 7), (22, 6), (-22, -6), (-23, -5), (23, 5), (24, 4), (-24, -4), (-25, -3), (25, 3), (26, 2), (-26, -2), (-27, -1), (27, 1), (-1, -26), (1, 26), (2, 25), (-2, -25), (-3, -24), (3, 24), (4, 23), (-4, -23), (-5, -22), (5, 22), (6, 21), (-6, -21), (-7, -20), (7, 20), (8, 19), (-8, -19), (-9, -18), (9, 18), (10, 17), (-10, -17), (-11, -16), (11, 16), (12, 15), (-12, -15), (-13, -14), (13, 14), (14, 13), (-14, -13), (-15, -12), (15, 12), (16, 11), (-16, -11), (-17, -10), (17, 10), (18, 9), (-18, -9), (-19, -8), (19, 8), (20, 7), (-20, -7), (-21, -6), (21, 6), (22, 5), (-22, -5), (-23, -4), (23, 4), (24, 3), (-24, -3), (-25, -2), (25, 2), (26, 1), (-26, -1), (-1, -25), (1, 25), (2, 24), (-2, -24), (-3, -23), (3, 23), (4, 22), (-4, -22), (-5, -21), (5, 21), (6, 20), (-6, -20), (-7, -19), (7, 19), (8, 18), (-8, -18), (-9, -17), (9, 17), (10, 16), (-10, -16), (-11, -15), (11, 15), (12, 14), (-12, -14), (-13, -13), (13, 13), (14, 12), (-14, -12), (-15, -11), (15, 11), (16, 10), (-16, -10), (-17, -9), (17, 9), (18, 8), (-18, -8), (-19, -7), (19, 7), (20, 6), (-20, -6), (-21, -5), (21, 5), (22, 4), (-22, -4), (-23, -3), (23, 3), (24, 2), (-24, -2), (-25, -1), (25, 1), (-1, -24), (1, 24), (2, 23), (-2, -23), (-3, -22), (3, 22), (4, 21), (-4, -21), (-5, -20), (5, 20), (6, 19), (-6, -19), (-7, -18), (7, 18), (8, 17), (-8, -17), (-9, -16), (9, 16), (10, 15), (-10, -15), (-11, -14), (11, 14), (12, 13), (-12, -13), (-13, -12), (13, 12), (14, 11), (-14, -11), (-15, -10), (15, 10), (16, 9), (-16, -9), (-17, -8), (17, 8), (18, 7), (-18, -7), (-19, -6), (19, 6), (20, 5), (-20, -5), (-21, -4), (21, 4), (22, 3), (-22, -3), (-23, -2), (23, 2), (24, 1), (-24, -1), (-1, -23), (1, 23), (2, 22), (-2, -22), (-3, -21), (3, 21), (4, 20), (-4, -20), (-5, -19), (5, 19), (6, 18), (-6, -18), (-7, -17), (7, 17), (8, 16), (-8, -16), (-9, -15), (9, 15), (10, 14), (-10, -14), (-11, -13), (11, 13), (12, 12), (-12, -12), (-13, -11), (13, 11), (14, 10), (-14, -10), (-15, -9), (15, 9), (16, 8), (-16, -8), (-17, -7), (17, 7), (18, 6), (-18, -6), (-19, -5), (19, 5), (20, 4), (-20, -4), (-21, -3), (21, 3), (22, 2), (-22, -2), (-23, -1), (23, 1), (-1, -22), (1, 22), (2, 21), (-2, -21), (-3, -20), (3, 20), (4, 19), (-4, -19), (-5, -18), (5, 18), (6, 17), (-6, -17), (-7, -16), (7, 16), (8, 15), (-8, -15), (-9, -14), (9, 14), (10, 13), (-10, -13), (-11, -12), (11, 12), (12, 11), (-12, -11), (-13, -10), (13, 10), (14, 9), (-14, -9), (-15, -8), (15, 8), (16, 7), (-16, -7), (-17, -6), (17, 6), (18, 5), (-18, -5), (-19, -4), (19, 4), (20, 3), (-20, -3), (-21, -2), (21, 2), (22, 1), (-22, -1), (-1, -21), (1, 21), (2, 20), (-2, -20), (-3, -19), (3, 19), (4, 18), (-4, -18), (-5, -17), (5, 17), (6, 16), (-6, -16), (-7, -15), (7, 15), (8, 14), (-8, -14), (-9, -13), (9, 13), (10, 12), (-10, -12), (-11, -11), (11, 11), (12, 10), (-12, -10), (-13, -9), (13, 9), (14, 8), (-14, -8), (-15, -7), (15, 7), (16, 6), (-16, -6), (-17, -5), (17, 5), (18, 4), (-18, -4), (-19, -3), (19, 3), (20, 2), (-20, -2), (-21, -1), (21, 1), (-1, -20), (1, 20), (2, 19), (-2, -19), (-3, -18), (3, 18), (4, 17), (-4, -17), (-5, -16), (5, 16), (6, 15), (-6, -15), (-7, -14), (7, 14), (8, 13), (-8, -13), (-9, -12), (9, 12), (10, 11), (-10, -11), (-11, -10), (11, 10), (12, 9), (-12, -9), (-13, -8), (13, 8), (14, 7), (-14, -7), (-15, -6), (15, 6), (16, 5), (-16, -5), (-17, -4), (17, 4), (18, 3), (-18, -3), (-19, -2), (19, 2), (20, 1), (-20, -1), (-1, -19), (1, 19), (2, 18), (-2, -18), (-3, -17), (3, 17), (4, 16), (-4, -16), (-5, -15), (5, 15), (6, 14), (-6, -14), (-7, -13), (7, 13), (8, 12), (-8, -12), (-9, -11), (9, 11), (10, 10), (-10, -10), (-11, -9), (11, 9), (12, 8), (-12, -8), (-13, -7), (13, 7), (14, 6), (-14, -6), (-15, -5), (15, 5), (16, 4), (-16, -4), (-17, -3), (17, 3), (18, 2), (-18, -2), (-19, -1), (19, 1), (-1, -18), (1, 18), (2, 17), (-2, -17), (-3, -16), (3, 16), (4, 15), (-4, -15), (-5, -14), (5, 14), (6, 13), (-6, -13), (-7, -12), (7, 12), (8, 11), (-8, -11), (-9, -10), (9, 10), (10, 9), (-10, -9), (-11, -8), (11, 8), (12, 7), (-12, -7), (-13, -6), (13, 6), (14, 5), (-14, -5), (-15, -4), (15, 4), (16, 3), (-16, -3), (-17, -2), (17, 2), (18, 1), (-18, -1), (-1, -17), (1, 17), (2, 16), (-2, -16), (-3, -15), (3, 15), (4, 14), (-4, -14), (-5, -13), (5, 13), (6, 12), (-6, -12), (-7, -11), (7, 11), (8, 10), (-8, -10), (-9, -9), (9, 9), (10, 8), (-10, -8), (-11, -7), (11, 7), (12, 6), (-12, -6), (-13, -5), (13, 5), (14, 4), (-14, -4), (-15, -3), (15, 3), (16, 2), (-16, -2), (-17, -1), (17, 1), (-1, -16), (1, 16), (2, 15), (-2, -15), (-3, -14), (3, 14), (4, 13), (-4, -13), (-5, -12), (5, 12), (6, 11), (-6, -11), (-7, -10), (7, 10), (8, 9), (-8, -9), (-9, -8), (9, 8), (10, 7), (-10, -7), (-11, -6), (11, 6), (12, 5), (-12, -5), (-13, -4), (13, 4), (14, 3), (-14, -3), (-15, -2), (15, 2), (16, 1), (-16, -1), (-1, -15), (1, 15), (2, 14), (-2, -14), (-3, -13), (3, 13), (4, 12), (-4, -12), (-5, -11), (5, 11), (6, 10), (-6, -10), (-7, -9), (7, 9), (8, 8), (-8, -8), (-9, -7), (9, 7), (10, 6), (-10, -6), (-11, -5), (11, 5), (12, 4), (-12, -4), (-13, -3), (13, 3), (14, 2), (-14, -2), (-15, -1), (15, 1), (-1, -14), (1, 14), (2, 13), (-2, -13), (-3, -12), (3, 12), (4, 11), (-4, -11), (-5, -10), (5, 10), (6, 9), (-6, -9), (-7, -8), (7, 8), (8, 7), (-8, -7), (-9, -6), (9, 6), (10, 5), (-10, -5), (-11, -4), (11, 4), (12, 3), (-12, -3), (-13, -2), (13, 2), (14, 1), (-14, -1), (-1, -13), (1, 13), (2, 12), (-2, -12), (-3, -11), (3, 11), (4, 10), (-4, -10), (-5, -9), (5, 9), (6, 8), (-6, -8), (-7, -7), (7, 7), (8, 6), (-8, -6), (-9, -5), (9, 5), (10, 4), (-10, -4), (-11, -3), (11, 3), (12, 2), (-12, -2), (-13, -1), (13, 1), (-1, -12), (1, 12), (2, 11), (-2, -11), (-3, -10), (3, 10), (4, 9), (-4, -9), (-5, -8), (5, 8), (6, 7), (-6, -7), (-7, -6), (7, 6), (8, 5), (-8, -5), (-9, -4), (9, 4), (10, 3), (-10, -3), (-11, -2), (11, 2), (12, 1), (-12, -1), (-1, -11), (1, 11), (2, 10), (-2, -10), (-3, -9), (3, 9), (4, 8), (-4, -8), (-5, -7), (5, 7), (6, 6), (-6, -6), (-7, -5), (7, 5), (8, 4), (-8, -4), (-9, -3), (9, 3), (10, 2), (-10, -2), (-11, -1), (11, 1), (-1, -10), (1, 10), (2, 9), (-2, -9), (-3, -8), (3, 8), (4, 7), (-4, -7), (-5, -6), (5, 6), (6, 5), (-6, -5), (-7, -4), (7, 4), (8, 3), (-8, -3), (-9, -2), (9, 2), (10, 1), (-10, -1), (-1, -9), (1, 9), (2, 8), (-2, -8), (-3, -7), (3, 7), (4, 6), (-4, -6), (-5, -5), (5, 5), (6, 4), (-6, -4), (-7, -3), (7, 3), (8, 2), (-8, -2), (-9, -1), (9, 1), (-1, -8), (1, 8), (2, 7), (-2, -7), (-3, -6), (3, 6), (4, 5), (-4, -5), (-5, -4), (5, 4), (6, 3), (-6, -3), (-7, -2), (7, 2), (8, 1), (-8, -1), (-1, -7), (1, 7), (2, 6), (-2, -6), (-3, -5), (3, 5), (4, 4), (-4, -4), (-5, -3), (5, 3), (6, 2), (-6, -2), (-7, -1), (7, 1), (-1, -6), (1, 6), (2, 5), (-2, -5), (-3, -4), (3, 4), (4, 3), (-4, -3), (-5, -2), (5, 2), (6, 1), (-6, -1), (-1, -5), (1, 5), (2, 4), (-2, -4), (-3, -3), (3, 3), (4, 2), (-4, -2), (-5, -1), (5, 1), (-1, -4), (1, 4), (2, 3), (-2, -3), (-3, -2), (3, 2), (4, 1), (-4, -1), (-1, -3), (1, 3), (2, 2), (-2, -2), (-3, -1), (3, 1), (-1, -2), (1, 2), (2, 1), (-2, -1), (-1, -54), (1, 54), (-1, -1), (1, 1), 's']\n"
          ]
        }
      ],
      "source": [
        "if nx.is_directed_acyclic_graph(G):\n",
        "    print(list(reversed(list(nx.topological_sort(G)))))\n"
      ]
    },
    {
      "cell_type": "code",
      "execution_count": 153,
      "id": "f8a4adb6",
      "metadata": {},
      "outputs": [],
      "source": [
        "def visualizeList(database_images, query_images, shortest_list):\n",
        "    query_num = len(shortest_list)-2\n",
        "    # query_num=len(query_images)\n",
        "    fig, ax = plt.subplots(query_num, 2, figsize=(8, 60))\n",
        "    fig.tight_layout()\n",
        "    for i in range(query_num):\n",
        "        ax[i, 0].imshow(query_images[i])\n",
        "        ax[i, 0].set_title(i)\n",
        "        ax[i, 1].imshow(database_images[shortest_list[i+1][1]-1])\n",
        "        ax[i, 1].set_title(shortest_list[i+1][1]-1)\n",
        "    fig.show()\n"
      ]
    },
    {
      "cell_type": "code",
      "execution_count": 13,
      "id": "65a66971",
      "metadata": {},
      "outputs": [],
      "source": [
        "# nx.draw_networkx(G)\n",
        "# nx.write_gexf(G, \"test.gexf\")\n"
      ]
    },
    {
      "cell_type": "code",
      "execution_count": 14,
      "id": "9532437e",
      "metadata": {},
      "outputs": [],
      "source": [
        "# for u in flowDict:\n",
        "#     for v in flowDict[u]:\n",
        "#         if flowDict[u][v]>0:\n",
        "#             print(u,v)\n",
        "\n",
        "# list_flow = [(u, v)\n",
        "#              for u in flowDict for v in flowDict[u] if flowDict[u][v] > 0]\n"
      ]
    },
    {
      "cell_type": "code",
      "execution_count": 154,
      "id": "a82aa1cf",
      "metadata": {},
      "outputs": [
        {
          "name": "stdout",
          "output_type": "stream",
          "text": [
            "['s', (1, 1), (-2, -1), (-3, -1), (-4, -1), (-5, -1), (-6, -1), (-7, -1), (-8, -1), (-9, -1), (-10, -1), (-11, -1), (-12, -1), (-13, -1), (-14, -1), (-15, -1), (-16, -1), (-17, -1), (-18, -1), (-19, -1), (-20, -1), (-21, -1), (-22, -1), (-23, -1), (-24, -1), (-25, -1), (-26, -1), (-27, -1), (-28, -1), (-29, -1), (-30, -1), 't']\n"
          ]
        }
      ],
      "source": [
        "shortest_list = nx.shortest_path(G, \"s\", \"t\", weight=\"weight\")\n",
        "print(shortest_list)\n",
        "\n",
        "# visualizeList(database_images, query_images, shortest_list)\n"
      ]
    },
    {
      "cell_type": "code",
      "execution_count": 155,
      "id": "269830b0",
      "metadata": {},
      "outputs": [
        {
          "data": {
            "image/png": "[encoded data removed]",
            "text/plain": [
              "<Figure size 432x288 with 1 Axes>"
            ]
          },
          "metadata": {
            "needs_background": "light"
          },
          "output_type": "display_data"
        }
      ],
      "source": [
        "\n",
        "def visualization(shortest_list, similarity_matrix):\n",
        "    query = []\n",
        "    data = []\n",
        "    for i in range(1, len(shortest_list)-1):\n",
        "        query.append(shortest_list[i][0]-1)\n",
        "        data.append(shortest_list[i][1]-1)\n",
        "    plt.imshow(similarity_matrix)\n",
        "    plt.scatter(data, query, color='b')\n",
        "    plt.plot(data, query, color='black')\n",
        "    plt.show()\n",
        "\n",
        "\n",
        "visualization(shortest_list, similarity_matrix)\n"
      ]
    },
    {
      "cell_type": "code",
      "execution_count": 140,
      "id": "ad200b89",
      "metadata": {},
      "outputs": [],
      "source": [
        "# class evaluator():\n",
        "#     def __init__(self,shortest_list,tolerance=3):\n",
        "#         self.shortest_list=shortest_list\n",
        "#         self.tolerance=tolerance\n",
        "#         self.calculate()\n",
        "#     def calculate(self):\n",
        "#         TP=0\n",
        "#         FP=0\n",
        "#         TN=0\n",
        "#         FN=0\n",
        "#         query = []\n",
        "#         data = []\n",
        "#         for i in range(1, len(shortest_list)-1):\n",
        "#             query.append(shortest_list[i][0]-1)\n",
        "#             data.append(shortest_list[i][1]-1)\n",
        "#         for i in range(len(query)):\n",
        "#             if not (abs(query[i]-data[i])>self.tolerance):\n",
        "#                 TP+=1\n",
        "#             else:\n",
        "#                 if query[i] in data:\n",
        "#                     FP+=1\n",
        "                "
      ]
    }
  ],
  "metadata": {
    "colab": {
      "name": "pytorch_vision_googlenet.ipynb",
      "provenance": []
    },
    "interpreter": {
      "hash": "5d41c24aa7bc539c1e5b2b8472fb4f5e6fdc1aae223a5e4e26647df085f4bdf4"
    },
    "kernelspec": {
      "display_name": "Python 3.8.12 ('d2l')",
      "language": "python",
      "name": "python3"
    },
    "language_info": {
      "codemirror_mode": {
        "name": "ipython",
        "version": 3
      },
      "file_extension": ".py",
      "mimetype": "text/x-python",
      "name": "python",
      "nbconvert_exporter": "python",
      "pygments_lexer": "ipython3",
      "version": "3.8.12"
    }
  },
  "nbformat": 4,
  "nbformat_minor": 5
}
